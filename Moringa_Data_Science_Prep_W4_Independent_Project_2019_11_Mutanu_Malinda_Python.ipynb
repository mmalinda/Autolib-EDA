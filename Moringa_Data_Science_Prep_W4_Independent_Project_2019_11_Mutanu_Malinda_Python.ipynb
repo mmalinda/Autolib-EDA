{
  "nbformat": 4,
  "nbformat_minor": 0,
  "metadata": {
    "colab": {
      "name": "Moringa_Data_Science_Prep_W4_Independent_Project_2019_11_Mutanu_Malinda_Python.ipynb",
      "provenance": [],
      "collapsed_sections": [],
      "toc_visible": true,
      "include_colab_link": true
    },
    "kernelspec": {
      "name": "python3",
      "display_name": "Python 3"
    }
  },
  "cells": [
    {
      "cell_type": "markdown",
      "metadata": {
        "id": "view-in-github",
        "colab_type": "text"
      },
      "source": [
        "<a href=\"https://colab.research.google.com/github/mmalinda/DS-Prep/blob/master/Moringa_Data_Science_Prep_W4_Independent_Project_2019_11_Mutanu_Malinda_Python.ipynb\" target=\"_parent\"><img src=\"https://colab.research.google.com/assets/colab-badge.svg\" alt=\"Open In Colab\"/></a>"
      ]
    },
    {
      "cell_type": "markdown",
      "metadata": {
        "id": "IYToyR9jo_j3",
        "colab_type": "text"
      },
      "source": [
        "# Exploring the Data"
      ]
    },
    {
      "cell_type": "code",
      "metadata": {
        "id": "MixKgdSlpPNH",
        "colab_type": "code",
        "colab": {}
      },
      "source": [
        "# Importing the packages needed for this analysis\n",
        "import pandas as pd\n",
        "\n",
        "import numpy as np"
      ],
      "execution_count": 0,
      "outputs": []
    },
    {
      "cell_type": "code",
      "metadata": {
        "id": "EWF28-q_pW7l",
        "colab_type": "code",
        "outputId": "67e7584a-089d-493c-a2b9-3a00bbc13c00",
        "colab": {
          "base_uri": "https://localhost:8080/",
          "height": 730
        }
      },
      "source": [
        "# Loading the dataset\n",
        "df = pd.read_csv('http://bit.ly/autolib_dataset', encoding = 'latin1')\n",
        "\n",
        "# Viewing the first 10 rows of data\n",
        "df.head(10)"
      ],
      "execution_count": 122,
      "outputs": [
        {
          "output_type": "execute_result",
          "data": {
            "text/html": [
              "<div>\n",
              "<style scoped>\n",
              "    .dataframe tbody tr th:only-of-type {\n",
              "        vertical-align: middle;\n",
              "    }\n",
              "\n",
              "    .dataframe tbody tr th {\n",
              "        vertical-align: top;\n",
              "    }\n",
              "\n",
              "    .dataframe thead th {\n",
              "        text-align: right;\n",
              "    }\n",
              "</style>\n",
              "<table border=\"1\" class=\"dataframe\">\n",
              "  <thead>\n",
              "    <tr style=\"text-align: right;\">\n",
              "      <th></th>\n",
              "      <th>Address</th>\n",
              "      <th>Cars</th>\n",
              "      <th>Bluecar counter</th>\n",
              "      <th>Utilib counter</th>\n",
              "      <th>Utilib 1.4 counter</th>\n",
              "      <th>Charge Slots</th>\n",
              "      <th>Charging Status</th>\n",
              "      <th>City</th>\n",
              "      <th>Displayed comment</th>\n",
              "      <th>ID</th>\n",
              "      <th>Kind</th>\n",
              "      <th>Geo point</th>\n",
              "      <th>Postal code</th>\n",
              "      <th>Public name</th>\n",
              "      <th>Rental status</th>\n",
              "      <th>Scheduled at</th>\n",
              "      <th>Slots</th>\n",
              "      <th>Station type</th>\n",
              "      <th>Status</th>\n",
              "      <th>Subscription status</th>\n",
              "      <th>year</th>\n",
              "      <th>month</th>\n",
              "      <th>day</th>\n",
              "      <th>hour</th>\n",
              "      <th>minute</th>\n",
              "    </tr>\n",
              "  </thead>\n",
              "  <tbody>\n",
              "    <tr>\n",
              "      <th>0</th>\n",
              "      <td>2 Avenue de Suffren</td>\n",
              "      <td>0</td>\n",
              "      <td>0</td>\n",
              "      <td>0</td>\n",
              "      <td>0</td>\n",
              "      <td>0</td>\n",
              "      <td>nonexistent</td>\n",
              "      <td>Paris</td>\n",
              "      <td>NaN</td>\n",
              "      <td>paris-suffren-2</td>\n",
              "      <td>STATION</td>\n",
              "      <td>48.857, 2.2917</td>\n",
              "      <td>75015</td>\n",
              "      <td>Paris/Suffren/2</td>\n",
              "      <td>operational</td>\n",
              "      <td>NaN</td>\n",
              "      <td>2</td>\n",
              "      <td>station</td>\n",
              "      <td>ok</td>\n",
              "      <td>nonexistent</td>\n",
              "      <td>2018</td>\n",
              "      <td>4</td>\n",
              "      <td>8</td>\n",
              "      <td>11</td>\n",
              "      <td>43</td>\n",
              "    </tr>\n",
              "    <tr>\n",
              "      <th>1</th>\n",
              "      <td>145 Rue Raymond Losserand</td>\n",
              "      <td>6</td>\n",
              "      <td>6</td>\n",
              "      <td>0</td>\n",
              "      <td>0</td>\n",
              "      <td>0</td>\n",
              "      <td>operational</td>\n",
              "      <td>Paris</td>\n",
              "      <td>NaN</td>\n",
              "      <td>paris-raymondlosserand-145</td>\n",
              "      <td>STATION</td>\n",
              "      <td>48.83126, 2.313088</td>\n",
              "      <td>75014</td>\n",
              "      <td>Paris/Raymond Losserand/145</td>\n",
              "      <td>operational</td>\n",
              "      <td>NaN</td>\n",
              "      <td>0</td>\n",
              "      <td>station</td>\n",
              "      <td>ok</td>\n",
              "      <td>nonexistent</td>\n",
              "      <td>2018</td>\n",
              "      <td>4</td>\n",
              "      <td>6</td>\n",
              "      <td>7</td>\n",
              "      <td>24</td>\n",
              "    </tr>\n",
              "    <tr>\n",
              "      <th>2</th>\n",
              "      <td>2 Avenue John Fitzgerald Kennedy</td>\n",
              "      <td>3</td>\n",
              "      <td>3</td>\n",
              "      <td>0</td>\n",
              "      <td>2</td>\n",
              "      <td>0</td>\n",
              "      <td>operational</td>\n",
              "      <td>Le Bourget</td>\n",
              "      <td>NaN</td>\n",
              "      <td>lebourget-johnfitzgeraldkennedy-2</td>\n",
              "      <td>STATION</td>\n",
              "      <td>48.938103, 2.4286035</td>\n",
              "      <td>93350</td>\n",
              "      <td>Le Bourget/John Fitzgerald Kennedy/2</td>\n",
              "      <td>operational</td>\n",
              "      <td>NaN</td>\n",
              "      <td>1</td>\n",
              "      <td>station</td>\n",
              "      <td>ok</td>\n",
              "      <td>nonexistent</td>\n",
              "      <td>2018</td>\n",
              "      <td>4</td>\n",
              "      <td>3</td>\n",
              "      <td>20</td>\n",
              "      <td>14</td>\n",
              "    </tr>\n",
              "    <tr>\n",
              "      <th>3</th>\n",
              "      <td>51 Rue EugÃÂ¨ne OudinÃÂ©</td>\n",
              "      <td>3</td>\n",
              "      <td>3</td>\n",
              "      <td>1</td>\n",
              "      <td>0</td>\n",
              "      <td>1</td>\n",
              "      <td>operational</td>\n",
              "      <td>Paris</td>\n",
              "      <td>NaN</td>\n",
              "      <td>paris-eugeneoudine-51</td>\n",
              "      <td>STATION</td>\n",
              "      <td>48.8250327, 2.3725162</td>\n",
              "      <td>75013</td>\n",
              "      <td>Paris/EugÃÂ¨ne OudinÃÂ©/51</td>\n",
              "      <td>operational</td>\n",
              "      <td>NaN</td>\n",
              "      <td>2</td>\n",
              "      <td>station</td>\n",
              "      <td>ok</td>\n",
              "      <td>nonexistent</td>\n",
              "      <td>2018</td>\n",
              "      <td>4</td>\n",
              "      <td>4</td>\n",
              "      <td>4</td>\n",
              "      <td>37</td>\n",
              "    </tr>\n",
              "    <tr>\n",
              "      <th>4</th>\n",
              "      <td>6 avenue de la Porte de Champerret</td>\n",
              "      <td>3</td>\n",
              "      <td>3</td>\n",
              "      <td>0</td>\n",
              "      <td>0</td>\n",
              "      <td>0</td>\n",
              "      <td>nonexistent</td>\n",
              "      <td>Paris</td>\n",
              "      <td>NaN</td>\n",
              "      <td>paris-portedechamperret-6</td>\n",
              "      <td>PARKING</td>\n",
              "      <td>48.8862632, 2.2874511</td>\n",
              "      <td>75017</td>\n",
              "      <td>Paris/Porte de Champerret/6</td>\n",
              "      <td>operational</td>\n",
              "      <td>NaN</td>\n",
              "      <td>3</td>\n",
              "      <td>station</td>\n",
              "      <td>ok</td>\n",
              "      <td>nonexistent</td>\n",
              "      <td>2018</td>\n",
              "      <td>4</td>\n",
              "      <td>8</td>\n",
              "      <td>17</td>\n",
              "      <td>23</td>\n",
              "    </tr>\n",
              "    <tr>\n",
              "      <th>5</th>\n",
              "      <td>8 Boulevard Voltaire</td>\n",
              "      <td>0</td>\n",
              "      <td>0</td>\n",
              "      <td>0</td>\n",
              "      <td>0</td>\n",
              "      <td>0</td>\n",
              "      <td>nonexistent</td>\n",
              "      <td>Paris</td>\n",
              "      <td>NaN</td>\n",
              "      <td>paris-voltaire-8</td>\n",
              "      <td>STATION</td>\n",
              "      <td>48.8657658, 2.3664376</td>\n",
              "      <td>75011</td>\n",
              "      <td>Paris/Voltaire/8</td>\n",
              "      <td>operational</td>\n",
              "      <td>NaN</td>\n",
              "      <td>4</td>\n",
              "      <td>station</td>\n",
              "      <td>ok</td>\n",
              "      <td>nonexistent</td>\n",
              "      <td>2018</td>\n",
              "      <td>4</td>\n",
              "      <td>6</td>\n",
              "      <td>7</td>\n",
              "      <td>2</td>\n",
              "    </tr>\n",
              "    <tr>\n",
              "      <th>6</th>\n",
              "      <td>37 rue Leblanc</td>\n",
              "      <td>0</td>\n",
              "      <td>0</td>\n",
              "      <td>0</td>\n",
              "      <td>0</td>\n",
              "      <td>0</td>\n",
              "      <td>nonexistent</td>\n",
              "      <td>Paris</td>\n",
              "      <td>Station en parking (niv -1), accÃÂ¨s 37 rue L...</td>\n",
              "      <td>paris-citroencevennes-parking</td>\n",
              "      <td>PARKING</td>\n",
              "      <td>48.83874, 2.27641</td>\n",
              "      <td>75015</td>\n",
              "      <td>Paris/CitroÃÂ«n CÃÂ©vennes/Parking</td>\n",
              "      <td>broken</td>\n",
              "      <td>NaN</td>\n",
              "      <td>0</td>\n",
              "      <td>station</td>\n",
              "      <td>closed</td>\n",
              "      <td>nonexistent</td>\n",
              "      <td>2018</td>\n",
              "      <td>4</td>\n",
              "      <td>8</td>\n",
              "      <td>18</td>\n",
              "      <td>20</td>\n",
              "    </tr>\n",
              "    <tr>\n",
              "      <th>7</th>\n",
              "      <td>17 Rue des Luaps ProlongÃÂ©e</td>\n",
              "      <td>3</td>\n",
              "      <td>3</td>\n",
              "      <td>1</td>\n",
              "      <td>0</td>\n",
              "      <td>0</td>\n",
              "      <td>nonexistent</td>\n",
              "      <td>Nanterre</td>\n",
              "      <td>NaN</td>\n",
              "      <td>nanterre-luaps-17</td>\n",
              "      <td>STATION</td>\n",
              "      <td>48.88069, 2.21063</td>\n",
              "      <td>92000</td>\n",
              "      <td>Nanterre/Luaps/17</td>\n",
              "      <td>operational</td>\n",
              "      <td>NaN</td>\n",
              "      <td>0</td>\n",
              "      <td>station</td>\n",
              "      <td>ok</td>\n",
              "      <td>nonexistent</td>\n",
              "      <td>2018</td>\n",
              "      <td>4</td>\n",
              "      <td>4</td>\n",
              "      <td>22</td>\n",
              "      <td>13</td>\n",
              "    </tr>\n",
              "    <tr>\n",
              "      <th>8</th>\n",
              "      <td>34 avenue Jean Moulin</td>\n",
              "      <td>1</td>\n",
              "      <td>1</td>\n",
              "      <td>0</td>\n",
              "      <td>0</td>\n",
              "      <td>0</td>\n",
              "      <td>nonexistent</td>\n",
              "      <td>Paris</td>\n",
              "      <td>NaN</td>\n",
              "      <td>paris-jeanmoulin-34</td>\n",
              "      <td>STATION</td>\n",
              "      <td>48.8266807, 2.3237355</td>\n",
              "      <td>75014</td>\n",
              "      <td>Paris/Jean Moulin/34</td>\n",
              "      <td>operational</td>\n",
              "      <td>NaN</td>\n",
              "      <td>4</td>\n",
              "      <td>station</td>\n",
              "      <td>ok</td>\n",
              "      <td>nonexistent</td>\n",
              "      <td>2018</td>\n",
              "      <td>4</td>\n",
              "      <td>2</td>\n",
              "      <td>22</td>\n",
              "      <td>58</td>\n",
              "    </tr>\n",
              "    <tr>\n",
              "      <th>9</th>\n",
              "      <td>41 boulevard de Rochechouart</td>\n",
              "      <td>6</td>\n",
              "      <td>6</td>\n",
              "      <td>0</td>\n",
              "      <td>0</td>\n",
              "      <td>0</td>\n",
              "      <td>nonexistent</td>\n",
              "      <td>Paris</td>\n",
              "      <td>NaN</td>\n",
              "      <td>paris-anvers-parking</td>\n",
              "      <td>PARKING</td>\n",
              "      <td>48.88267, 2.34405</td>\n",
              "      <td>75009</td>\n",
              "      <td>Paris/Anvers/Parking</td>\n",
              "      <td>operational</td>\n",
              "      <td>NaN</td>\n",
              "      <td>0</td>\n",
              "      <td>station</td>\n",
              "      <td>ok</td>\n",
              "      <td>nonexistent</td>\n",
              "      <td>2018</td>\n",
              "      <td>4</td>\n",
              "      <td>4</td>\n",
              "      <td>15</td>\n",
              "      <td>2</td>\n",
              "    </tr>\n",
              "  </tbody>\n",
              "</table>\n",
              "</div>"
            ],
            "text/plain": [
              "                              Address  Cars  Bluecar counter  ...  day  hour  minute\n",
              "0                 2 Avenue de Suffren     0                0  ...    8    11      43\n",
              "1           145 Rue Raymond Losserand     6                6  ...    6     7      24\n",
              "2    2 Avenue John Fitzgerald Kennedy     3                3  ...    3    20      14\n",
              "3          51 Rue EugÃÂ¨ne OudinÃÂ©     3                3  ...    4     4      37\n",
              "4  6 avenue de la Porte de Champerret     3                3  ...    8    17      23\n",
              "5                8 Boulevard Voltaire     0                0  ...    6     7       2\n",
              "6                      37 rue Leblanc     0                0  ...    8    18      20\n",
              "7       17 Rue des Luaps ProlongÃÂ©e     3                3  ...    4    22      13\n",
              "8               34 avenue Jean Moulin     1                1  ...    2    22      58\n",
              "9        41 boulevard de Rochechouart     6                6  ...    4    15       2\n",
              "\n",
              "[10 rows x 25 columns]"
            ]
          },
          "metadata": {
            "tags": []
          },
          "execution_count": 122
        }
      ]
    },
    {
      "cell_type": "code",
      "metadata": {
        "id": "ATCT9xJvlzqs",
        "colab_type": "code",
        "outputId": "72ce5727-4b2c-463a-cecd-193c95461d12",
        "colab": {
          "base_uri": "https://localhost:8080/",
          "height": 712
        }
      },
      "source": [
        "# Previewing a random subset of the data \n",
        "df.take(np.random.permutation(len(df))[:10])"
      ],
      "execution_count": 123,
      "outputs": [
        {
          "output_type": "execute_result",
          "data": {
            "text/html": [
              "<div>\n",
              "<style scoped>\n",
              "    .dataframe tbody tr th:only-of-type {\n",
              "        vertical-align: middle;\n",
              "    }\n",
              "\n",
              "    .dataframe tbody tr th {\n",
              "        vertical-align: top;\n",
              "    }\n",
              "\n",
              "    .dataframe thead th {\n",
              "        text-align: right;\n",
              "    }\n",
              "</style>\n",
              "<table border=\"1\" class=\"dataframe\">\n",
              "  <thead>\n",
              "    <tr style=\"text-align: right;\">\n",
              "      <th></th>\n",
              "      <th>Address</th>\n",
              "      <th>Cars</th>\n",
              "      <th>Bluecar counter</th>\n",
              "      <th>Utilib counter</th>\n",
              "      <th>Utilib 1.4 counter</th>\n",
              "      <th>Charge Slots</th>\n",
              "      <th>Charging Status</th>\n",
              "      <th>City</th>\n",
              "      <th>Displayed comment</th>\n",
              "      <th>ID</th>\n",
              "      <th>Kind</th>\n",
              "      <th>Geo point</th>\n",
              "      <th>Postal code</th>\n",
              "      <th>Public name</th>\n",
              "      <th>Rental status</th>\n",
              "      <th>Scheduled at</th>\n",
              "      <th>Slots</th>\n",
              "      <th>Station type</th>\n",
              "      <th>Status</th>\n",
              "      <th>Subscription status</th>\n",
              "      <th>year</th>\n",
              "      <th>month</th>\n",
              "      <th>day</th>\n",
              "      <th>hour</th>\n",
              "      <th>minute</th>\n",
              "    </tr>\n",
              "  </thead>\n",
              "  <tbody>\n",
              "    <tr>\n",
              "      <th>1269</th>\n",
              "      <td>9 Boulevard Raspail</td>\n",
              "      <td>1</td>\n",
              "      <td>1</td>\n",
              "      <td>0</td>\n",
              "      <td>0</td>\n",
              "      <td>1</td>\n",
              "      <td>operational</td>\n",
              "      <td>Paris</td>\n",
              "      <td>NaN</td>\n",
              "      <td>paris-raspail-9</td>\n",
              "      <td>STATION</td>\n",
              "      <td>48.85478, 2.32588</td>\n",
              "      <td>75007</td>\n",
              "      <td>Paris/Raspail/9</td>\n",
              "      <td>operational</td>\n",
              "      <td>NaN</td>\n",
              "      <td>4</td>\n",
              "      <td>station</td>\n",
              "      <td>ok</td>\n",
              "      <td>nonexistent</td>\n",
              "      <td>2018</td>\n",
              "      <td>4</td>\n",
              "      <td>3</td>\n",
              "      <td>12</td>\n",
              "      <td>37</td>\n",
              "    </tr>\n",
              "    <tr>\n",
              "      <th>3717</th>\n",
              "      <td>72 Avenue Jean JaurÃÂ¨s</td>\n",
              "      <td>1</td>\n",
              "      <td>1</td>\n",
              "      <td>0</td>\n",
              "      <td>0</td>\n",
              "      <td>0</td>\n",
              "      <td>nonexistent</td>\n",
              "      <td>Meudon</td>\n",
              "      <td>NaN</td>\n",
              "      <td>meudon-jeanjaures-72</td>\n",
              "      <td>STATION</td>\n",
              "      <td>48.8084458, 2.2410936</td>\n",
              "      <td>92190</td>\n",
              "      <td>Meudon/Jean JaurÃÂ¨s/72</td>\n",
              "      <td>operational</td>\n",
              "      <td>NaN</td>\n",
              "      <td>4</td>\n",
              "      <td>station</td>\n",
              "      <td>ok</td>\n",
              "      <td>broken</td>\n",
              "      <td>2018</td>\n",
              "      <td>4</td>\n",
              "      <td>2</td>\n",
              "      <td>4</td>\n",
              "      <td>16</td>\n",
              "    </tr>\n",
              "    <tr>\n",
              "      <th>1338</th>\n",
              "      <td>52 Rue de Bagneux</td>\n",
              "      <td>4</td>\n",
              "      <td>4</td>\n",
              "      <td>0</td>\n",
              "      <td>0</td>\n",
              "      <td>0</td>\n",
              "      <td>nonexistent</td>\n",
              "      <td>Sceaux</td>\n",
              "      <td>NaN</td>\n",
              "      <td>sceaux-bagneux-52</td>\n",
              "      <td>STATION</td>\n",
              "      <td>48.7842765, 2.3027628</td>\n",
              "      <td>92330</td>\n",
              "      <td>Sceaux/Bagneux/52</td>\n",
              "      <td>operational</td>\n",
              "      <td>NaN</td>\n",
              "      <td>2</td>\n",
              "      <td>station</td>\n",
              "      <td>ok</td>\n",
              "      <td>nonexistent</td>\n",
              "      <td>2018</td>\n",
              "      <td>4</td>\n",
              "      <td>6</td>\n",
              "      <td>6</td>\n",
              "      <td>39</td>\n",
              "    </tr>\n",
              "    <tr>\n",
              "      <th>601</th>\n",
              "      <td>2 Rue de Rungis</td>\n",
              "      <td>3</td>\n",
              "      <td>3</td>\n",
              "      <td>0</td>\n",
              "      <td>0</td>\n",
              "      <td>0</td>\n",
              "      <td>operational</td>\n",
              "      <td>Paris</td>\n",
              "      <td>NaN</td>\n",
              "      <td>paris-rungis-2</td>\n",
              "      <td>STATION</td>\n",
              "      <td>48.82195, 2.345853</td>\n",
              "      <td>75013</td>\n",
              "      <td>Paris/Rungis/2</td>\n",
              "      <td>operational</td>\n",
              "      <td>NaN</td>\n",
              "      <td>1</td>\n",
              "      <td>station</td>\n",
              "      <td>ok</td>\n",
              "      <td>nonexistent</td>\n",
              "      <td>2018</td>\n",
              "      <td>4</td>\n",
              "      <td>2</td>\n",
              "      <td>8</td>\n",
              "      <td>33</td>\n",
              "    </tr>\n",
              "    <tr>\n",
              "      <th>907</th>\n",
              "      <td>27 Rue Faidherbe</td>\n",
              "      <td>0</td>\n",
              "      <td>0</td>\n",
              "      <td>0</td>\n",
              "      <td>0</td>\n",
              "      <td>1</td>\n",
              "      <td>operational</td>\n",
              "      <td>Paris</td>\n",
              "      <td>NaN</td>\n",
              "      <td>paris-faidherbe-27</td>\n",
              "      <td>STATION</td>\n",
              "      <td>48.8525733, 2.3830368</td>\n",
              "      <td>75011</td>\n",
              "      <td>Paris/Faidherbe/27</td>\n",
              "      <td>operational</td>\n",
              "      <td>NaN</td>\n",
              "      <td>5</td>\n",
              "      <td>station</td>\n",
              "      <td>ok</td>\n",
              "      <td>nonexistent</td>\n",
              "      <td>2018</td>\n",
              "      <td>4</td>\n",
              "      <td>4</td>\n",
              "      <td>1</td>\n",
              "      <td>34</td>\n",
              "    </tr>\n",
              "    <tr>\n",
              "      <th>2148</th>\n",
              "      <td>6 avenue Foch</td>\n",
              "      <td>0</td>\n",
              "      <td>0</td>\n",
              "      <td>0</td>\n",
              "      <td>0</td>\n",
              "      <td>0</td>\n",
              "      <td>nonexistent</td>\n",
              "      <td>Paris</td>\n",
              "      <td>Station en parking (niv -2), accÃÂ¨s 4 av. Foch</td>\n",
              "      <td>paris-etoilefoch-parking</td>\n",
              "      <td>PARKING</td>\n",
              "      <td>48.87366, 2.29201</td>\n",
              "      <td>75016</td>\n",
              "      <td>Paris/Etoile Foch/Parking</td>\n",
              "      <td>broken</td>\n",
              "      <td>NaN</td>\n",
              "      <td>0</td>\n",
              "      <td>station</td>\n",
              "      <td>closed</td>\n",
              "      <td>nonexistent</td>\n",
              "      <td>2018</td>\n",
              "      <td>4</td>\n",
              "      <td>7</td>\n",
              "      <td>11</td>\n",
              "      <td>22</td>\n",
              "    </tr>\n",
              "    <tr>\n",
              "      <th>4809</th>\n",
              "      <td>88 rue de Bercy</td>\n",
              "      <td>6</td>\n",
              "      <td>6</td>\n",
              "      <td>0</td>\n",
              "      <td>0</td>\n",
              "      <td>0</td>\n",
              "      <td>operational</td>\n",
              "      <td>Paris</td>\n",
              "      <td>NaN</td>\n",
              "      <td>paris-bercy-88</td>\n",
              "      <td>STATION</td>\n",
              "      <td>48.8382761, 2.3816754</td>\n",
              "      <td>75012</td>\n",
              "      <td>Paris/Bercy/88</td>\n",
              "      <td>operational</td>\n",
              "      <td>NaN</td>\n",
              "      <td>0</td>\n",
              "      <td>station</td>\n",
              "      <td>ok</td>\n",
              "      <td>nonexistent</td>\n",
              "      <td>2018</td>\n",
              "      <td>4</td>\n",
              "      <td>1</td>\n",
              "      <td>15</td>\n",
              "      <td>57</td>\n",
              "    </tr>\n",
              "    <tr>\n",
              "      <th>2637</th>\n",
              "      <td>2 avenue Georges Pompidou</td>\n",
              "      <td>0</td>\n",
              "      <td>0</td>\n",
              "      <td>0</td>\n",
              "      <td>0</td>\n",
              "      <td>0</td>\n",
              "      <td>nonexistent</td>\n",
              "      <td>Sucy-en-Brie</td>\n",
              "      <td>NaN</td>\n",
              "      <td>sucyenbrie-georgespompidou-2</td>\n",
              "      <td>STATION</td>\n",
              "      <td>48.7708852, 2.5227425</td>\n",
              "      <td>94370</td>\n",
              "      <td>Sucy-en-Brie/Georges Pompidou/2</td>\n",
              "      <td>future</td>\n",
              "      <td>2016-04-26T14:28:01</td>\n",
              "      <td>0</td>\n",
              "      <td>station</td>\n",
              "      <td>scheduled</td>\n",
              "      <td>nonexistent</td>\n",
              "      <td>2018</td>\n",
              "      <td>4</td>\n",
              "      <td>9</td>\n",
              "      <td>0</td>\n",
              "      <td>11</td>\n",
              "    </tr>\n",
              "    <tr>\n",
              "      <th>3271</th>\n",
              "      <td>63 Boulevard Richard Lenoir</td>\n",
              "      <td>4</td>\n",
              "      <td>4</td>\n",
              "      <td>0</td>\n",
              "      <td>1</td>\n",
              "      <td>0</td>\n",
              "      <td>operational</td>\n",
              "      <td>Paris</td>\n",
              "      <td>NaN</td>\n",
              "      <td>paris-richardlenoir-63</td>\n",
              "      <td>STATION</td>\n",
              "      <td>48.86023, 2.3719914</td>\n",
              "      <td>75011</td>\n",
              "      <td>Paris/Richard Lenoir/63</td>\n",
              "      <td>operational</td>\n",
              "      <td>NaN</td>\n",
              "      <td>1</td>\n",
              "      <td>station</td>\n",
              "      <td>ok</td>\n",
              "      <td>nonexistent</td>\n",
              "      <td>2018</td>\n",
              "      <td>4</td>\n",
              "      <td>5</td>\n",
              "      <td>3</td>\n",
              "      <td>42</td>\n",
              "    </tr>\n",
              "    <tr>\n",
              "      <th>752</th>\n",
              "      <td>3 Rue des Halles</td>\n",
              "      <td>0</td>\n",
              "      <td>0</td>\n",
              "      <td>0</td>\n",
              "      <td>0</td>\n",
              "      <td>0</td>\n",
              "      <td>nonexistent</td>\n",
              "      <td>Paris</td>\n",
              "      <td>NaN</td>\n",
              "      <td>paris-halles-3</td>\n",
              "      <td>SPACE</td>\n",
              "      <td>48.8589371, 2.347433</td>\n",
              "      <td>75001</td>\n",
              "      <td>Paris/Halles/3</td>\n",
              "      <td>broken</td>\n",
              "      <td>NaN</td>\n",
              "      <td>0</td>\n",
              "      <td>full_station</td>\n",
              "      <td>ok</td>\n",
              "      <td>operational</td>\n",
              "      <td>2018</td>\n",
              "      <td>4</td>\n",
              "      <td>2</td>\n",
              "      <td>2</td>\n",
              "      <td>44</td>\n",
              "    </tr>\n",
              "  </tbody>\n",
              "</table>\n",
              "</div>"
            ],
            "text/plain": [
              "                          Address  Cars  Bluecar counter  ...  day  hour  minute\n",
              "1269          9 Boulevard Raspail     1                1  ...    3    12      37\n",
              "3717     72 Avenue Jean JaurÃÂ¨s     1                1  ...    2     4      16\n",
              "1338            52 Rue de Bagneux     4                4  ...    6     6      39\n",
              "601               2 Rue de Rungis     3                3  ...    2     8      33\n",
              "907              27 Rue Faidherbe     0                0  ...    4     1      34\n",
              "2148                6 avenue Foch     0                0  ...    7    11      22\n",
              "4809              88 rue de Bercy     6                6  ...    1    15      57\n",
              "2637    2 avenue Georges Pompidou     0                0  ...    9     0      11\n",
              "3271  63 Boulevard Richard Lenoir     4                4  ...    5     3      42\n",
              "752              3 Rue des Halles     0                0  ...    2     2      44\n",
              "\n",
              "[10 rows x 25 columns]"
            ]
          },
          "metadata": {
            "tags": []
          },
          "execution_count": 123
        }
      ]
    },
    {
      "cell_type": "code",
      "metadata": {
        "id": "JihP9N6yGpgY",
        "colab_type": "code",
        "outputId": "5245fb37-27b4-4e58-81a2-3ce4cd0f1b8f",
        "colab": {
          "base_uri": "https://localhost:8080/",
          "height": 550
        }
      },
      "source": [
        "# Getting more information on the format of the data\n",
        "df.info()"
      ],
      "execution_count": 124,
      "outputs": [
        {
          "output_type": "stream",
          "text": [
            "<class 'pandas.core.frame.DataFrame'>\n",
            "RangeIndex: 5000 entries, 0 to 4999\n",
            "Data columns (total 25 columns):\n",
            "Address                5000 non-null object\n",
            "Cars                   5000 non-null int64\n",
            "Bluecar counter        5000 non-null int64\n",
            "Utilib counter         5000 non-null int64\n",
            "Utilib 1.4 counter     5000 non-null int64\n",
            "Charge Slots           5000 non-null int64\n",
            "Charging Status        5000 non-null object\n",
            "City                   5000 non-null object\n",
            "Displayed comment      111 non-null object\n",
            "ID                     5000 non-null object\n",
            "Kind                   5000 non-null object\n",
            "Geo point              5000 non-null object\n",
            "Postal code            5000 non-null int64\n",
            "Public name            5000 non-null object\n",
            "Rental status          5000 non-null object\n",
            "Scheduled at           47 non-null object\n",
            "Slots                  5000 non-null int64\n",
            "Station type           5000 non-null object\n",
            "Status                 5000 non-null object\n",
            "Subscription status    5000 non-null object\n",
            "year                   5000 non-null int64\n",
            "month                  5000 non-null int64\n",
            "day                    5000 non-null int64\n",
            "hour                   5000 non-null int64\n",
            "minute                 5000 non-null int64\n",
            "dtypes: int64(12), object(13)\n",
            "memory usage: 976.7+ KB\n"
          ],
          "name": "stdout"
        }
      ]
    },
    {
      "cell_type": "markdown",
      "metadata": {
        "id": "XoMRubgtDcA0",
        "colab_type": "text"
      },
      "source": [
        "# Data Validity"
      ]
    },
    {
      "cell_type": "code",
      "metadata": {
        "id": "qxrnkYHUDuSW",
        "colab_type": "code",
        "colab": {
          "base_uri": "https://localhost:8080/",
          "height": 532
        },
        "outputId": "130b2391-7a72-41ae-aaf0-77da27a52227"
      },
      "source": [
        "# The \"Cars\" attribute is redundant with the \"Bluecar counter\" attribute, as stated in the dataset description\n",
        "# Dropping the Cars column\n",
        "df = df.drop (['Cars'], axis = 1)\n",
        "df.info()"
      ],
      "execution_count": 125,
      "outputs": [
        {
          "output_type": "stream",
          "text": [
            "<class 'pandas.core.frame.DataFrame'>\n",
            "RangeIndex: 5000 entries, 0 to 4999\n",
            "Data columns (total 24 columns):\n",
            "Address                5000 non-null object\n",
            "Bluecar counter        5000 non-null int64\n",
            "Utilib counter         5000 non-null int64\n",
            "Utilib 1.4 counter     5000 non-null int64\n",
            "Charge Slots           5000 non-null int64\n",
            "Charging Status        5000 non-null object\n",
            "City                   5000 non-null object\n",
            "Displayed comment      111 non-null object\n",
            "ID                     5000 non-null object\n",
            "Kind                   5000 non-null object\n",
            "Geo point              5000 non-null object\n",
            "Postal code            5000 non-null int64\n",
            "Public name            5000 non-null object\n",
            "Rental status          5000 non-null object\n",
            "Scheduled at           47 non-null object\n",
            "Slots                  5000 non-null int64\n",
            "Station type           5000 non-null object\n",
            "Status                 5000 non-null object\n",
            "Subscription status    5000 non-null object\n",
            "year                   5000 non-null int64\n",
            "month                  5000 non-null int64\n",
            "day                    5000 non-null int64\n",
            "hour                   5000 non-null int64\n",
            "minute                 5000 non-null int64\n",
            "dtypes: int64(11), object(13)\n",
            "memory usage: 937.6+ KB\n"
          ],
          "name": "stdout"
        }
      ]
    },
    {
      "cell_type": "code",
      "metadata": {
        "id": "2YbVOkYaEmfU",
        "colab_type": "code",
        "colab": {}
      },
      "source": [
        "# Removing any white space in the dataset\n",
        "df = df.applymap(lambda x: x.strip() if isinstance (x, str) else x)"
      ],
      "execution_count": 0,
      "outputs": []
    },
    {
      "cell_type": "code",
      "metadata": {
        "id": "6Pj3LFWnFfQM",
        "colab_type": "code",
        "colab": {
          "base_uri": "https://localhost:8080/",
          "height": 159
        },
        "outputId": "1bb45ece-16bc-4a65-e3e3-98d320b26a3e"
      },
      "source": [
        "print(df.head())"
      ],
      "execution_count": 127,
      "outputs": [
        {
          "output_type": "stream",
          "text": [
            "                              Address  Bluecar counter  ...  hour  minute\n",
            "0                 2 Avenue de Suffren                0  ...    11      43\n",
            "1           145 Rue Raymond Losserand                6  ...     7      24\n",
            "2    2 Avenue John Fitzgerald Kennedy                3  ...    20      14\n",
            "3          51 Rue EugÃÂ¨ne OudinÃÂ©                3  ...     4      37\n",
            "4  6 avenue de la Porte de Champerret                3  ...    17      23\n",
            "\n",
            "[5 rows x 24 columns]\n"
          ],
          "name": "stdout"
        }
      ]
    },
    {
      "cell_type": "code",
      "metadata": {
        "id": "px4bVM9sG91M",
        "colab_type": "code",
        "colab": {
          "base_uri": "https://localhost:8080/",
          "height": 124
        },
        "outputId": "29e0b47e-b078-44b5-a802-33fe572c0df3"
      },
      "source": [
        "df.columns"
      ],
      "execution_count": 128,
      "outputs": [
        {
          "output_type": "execute_result",
          "data": {
            "text/plain": [
              "Index(['Address', 'Bluecar counter', 'Utilib counter', 'Utilib 1.4 counter',\n",
              "       'Charge Slots', 'Charging Status', 'City', 'Displayed comment', 'ID',\n",
              "       'Kind', 'Geo point', 'Postal code', 'Public name', 'Rental status',\n",
              "       'Scheduled at', 'Slots', 'Station type', 'Status',\n",
              "       'Subscription status', 'year', 'month', 'day', 'hour', 'minute'],\n",
              "      dtype='object')"
            ]
          },
          "metadata": {
            "tags": []
          },
          "execution_count": 128
        }
      ]
    },
    {
      "cell_type": "code",
      "metadata": {
        "id": "v-uaCgoNGh57",
        "colab_type": "code",
        "colab": {
          "base_uri": "https://localhost:8080/",
          "height": 353
        },
        "outputId": "3daadeb8-ce02-4e39-90aa-261b7a522424"
      },
      "source": [
        "# Removing white spaces in columns wih numeric values\n",
        "df = df[df[['Bluecar counter', 'Utilib counter', 'Utilib 1.4 counter', 'Charge Slots', 'Slots', 'year', 'month', 'day', 'hour', 'minute']].replace(\" \", \"\")]\n",
        "print(df)"
      ],
      "execution_count": 110,
      "outputs": [
        {
          "output_type": "error",
          "ename": "ValueError",
          "evalue": "ignored",
          "traceback": [
            "\u001b[0;31m---------------------------------------------------------------------------\u001b[0m",
            "\u001b[0;31mValueError\u001b[0m                                Traceback (most recent call last)",
            "\u001b[0;32m<ipython-input-110-5b9a856488f7>\u001b[0m in \u001b[0;36m<module>\u001b[0;34m()\u001b[0m\n\u001b[0;32m----> 1\u001b[0;31m \u001b[0mdf\u001b[0m \u001b[0;34m=\u001b[0m \u001b[0mdf\u001b[0m\u001b[0;34m[\u001b[0m\u001b[0mdf\u001b[0m\u001b[0;34m[\u001b[0m\u001b[0;34m[\u001b[0m\u001b[0;34m'Bluecar counter'\u001b[0m\u001b[0;34m,\u001b[0m \u001b[0;34m'Utilib counter'\u001b[0m\u001b[0;34m,\u001b[0m \u001b[0;34m'Utilib 1.4 counter'\u001b[0m\u001b[0;34m,\u001b[0m \u001b[0;34m'Charge Slots'\u001b[0m\u001b[0;34m,\u001b[0m \u001b[0;34m'Slots'\u001b[0m\u001b[0;34m,\u001b[0m \u001b[0;34m'year'\u001b[0m\u001b[0;34m,\u001b[0m \u001b[0;34m'month'\u001b[0m\u001b[0;34m,\u001b[0m \u001b[0;34m'day'\u001b[0m\u001b[0;34m,\u001b[0m \u001b[0;34m'hour'\u001b[0m\u001b[0;34m,\u001b[0m \u001b[0;34m'minute'\u001b[0m\u001b[0;34m]\u001b[0m\u001b[0;34m]\u001b[0m\u001b[0;34m.\u001b[0m\u001b[0mreplace\u001b[0m\u001b[0;34m(\u001b[0m\u001b[0;34m\" \"\u001b[0m\u001b[0;34m,\u001b[0m \u001b[0;34m\"\"\u001b[0m\u001b[0;34m)\u001b[0m\u001b[0;34m]\u001b[0m\u001b[0;34m\u001b[0m\u001b[0;34m\u001b[0m\u001b[0m\n\u001b[0m\u001b[1;32m      2\u001b[0m \u001b[0mprint\u001b[0m\u001b[0;34m(\u001b[0m\u001b[0mdf\u001b[0m\u001b[0;34m)\u001b[0m\u001b[0;34m\u001b[0m\u001b[0;34m\u001b[0m\u001b[0m\n",
            "\u001b[0;32m/usr/local/lib/python3.6/dist-packages/pandas/core/frame.py\u001b[0m in \u001b[0;36m__getitem__\u001b[0;34m(self, key)\u001b[0m\n\u001b[1;32m   2980\u001b[0m         \u001b[0;31m# Do we have a (boolean) DataFrame?\u001b[0m\u001b[0;34m\u001b[0m\u001b[0;34m\u001b[0m\u001b[0;34m\u001b[0m\u001b[0m\n\u001b[1;32m   2981\u001b[0m         \u001b[0;32mif\u001b[0m \u001b[0misinstance\u001b[0m\u001b[0;34m(\u001b[0m\u001b[0mkey\u001b[0m\u001b[0;34m,\u001b[0m \u001b[0mDataFrame\u001b[0m\u001b[0;34m)\u001b[0m\u001b[0;34m:\u001b[0m\u001b[0;34m\u001b[0m\u001b[0;34m\u001b[0m\u001b[0m\n\u001b[0;32m-> 2982\u001b[0;31m             \u001b[0;32mreturn\u001b[0m \u001b[0mself\u001b[0m\u001b[0;34m.\u001b[0m\u001b[0m_getitem_frame\u001b[0m\u001b[0;34m(\u001b[0m\u001b[0mkey\u001b[0m\u001b[0;34m)\u001b[0m\u001b[0;34m\u001b[0m\u001b[0;34m\u001b[0m\u001b[0m\n\u001b[0m\u001b[1;32m   2983\u001b[0m \u001b[0;34m\u001b[0m\u001b[0m\n\u001b[1;32m   2984\u001b[0m         \u001b[0;31m# Do we have a (boolean) 1d indexer?\u001b[0m\u001b[0;34m\u001b[0m\u001b[0;34m\u001b[0m\u001b[0;34m\u001b[0m\u001b[0m\n",
            "\u001b[0;32m/usr/local/lib/python3.6/dist-packages/pandas/core/frame.py\u001b[0m in \u001b[0;36m_getitem_frame\u001b[0;34m(self, key)\u001b[0m\n\u001b[1;32m   3079\u001b[0m     \u001b[0;32mdef\u001b[0m \u001b[0m_getitem_frame\u001b[0m\u001b[0;34m(\u001b[0m\u001b[0mself\u001b[0m\u001b[0;34m,\u001b[0m \u001b[0mkey\u001b[0m\u001b[0;34m)\u001b[0m\u001b[0;34m:\u001b[0m\u001b[0;34m\u001b[0m\u001b[0;34m\u001b[0m\u001b[0m\n\u001b[1;32m   3080\u001b[0m         \u001b[0;32mif\u001b[0m \u001b[0mkey\u001b[0m\u001b[0;34m.\u001b[0m\u001b[0mvalues\u001b[0m\u001b[0;34m.\u001b[0m\u001b[0msize\u001b[0m \u001b[0;32mand\u001b[0m \u001b[0;32mnot\u001b[0m \u001b[0mis_bool_dtype\u001b[0m\u001b[0;34m(\u001b[0m\u001b[0mkey\u001b[0m\u001b[0;34m.\u001b[0m\u001b[0mvalues\u001b[0m\u001b[0;34m)\u001b[0m\u001b[0;34m:\u001b[0m\u001b[0;34m\u001b[0m\u001b[0;34m\u001b[0m\u001b[0m\n\u001b[0;32m-> 3081\u001b[0;31m             \u001b[0;32mraise\u001b[0m \u001b[0mValueError\u001b[0m\u001b[0;34m(\u001b[0m\u001b[0;34m\"Must pass DataFrame with boolean values only\"\u001b[0m\u001b[0;34m)\u001b[0m\u001b[0;34m\u001b[0m\u001b[0;34m\u001b[0m\u001b[0m\n\u001b[0m\u001b[1;32m   3082\u001b[0m         \u001b[0;32mreturn\u001b[0m \u001b[0mself\u001b[0m\u001b[0;34m.\u001b[0m\u001b[0mwhere\u001b[0m\u001b[0;34m(\u001b[0m\u001b[0mkey\u001b[0m\u001b[0;34m)\u001b[0m\u001b[0;34m\u001b[0m\u001b[0;34m\u001b[0m\u001b[0m\n\u001b[1;32m   3083\u001b[0m \u001b[0;34m\u001b[0m\u001b[0m\n",
            "\u001b[0;31mValueError\u001b[0m: Must pass DataFrame with boolean values only"
          ]
        }
      ]
    },
    {
      "cell_type": "code",
      "metadata": {
        "id": "jTNM6xSpB_Tq",
        "colab_type": "code",
        "colab": {
          "base_uri": "https://localhost:8080/",
          "height": 461
        },
        "outputId": "16fe90f8-7601-4bcc-baaa-94ea7b5941f2"
      },
      "source": [
        "# Viewing the missing values in each column\n",
        "df.isnull().sum()"
      ],
      "execution_count": 129,
      "outputs": [
        {
          "output_type": "execute_result",
          "data": {
            "text/plain": [
              "Address                   0\n",
              "Bluecar counter           0\n",
              "Utilib counter            0\n",
              "Utilib 1.4 counter        0\n",
              "Charge Slots              0\n",
              "Charging Status           0\n",
              "City                      0\n",
              "Displayed comment      4889\n",
              "ID                        0\n",
              "Kind                      0\n",
              "Geo point                 0\n",
              "Postal code               0\n",
              "Public name               0\n",
              "Rental status             0\n",
              "Scheduled at           4953\n",
              "Slots                     0\n",
              "Station type              0\n",
              "Status                    0\n",
              "Subscription status       0\n",
              "year                      0\n",
              "month                     0\n",
              "day                       0\n",
              "hour                      0\n",
              "minute                    0\n",
              "dtype: int64"
            ]
          },
          "metadata": {
            "tags": []
          },
          "execution_count": 129
        }
      ]
    },
    {
      "cell_type": "code",
      "metadata": {
        "id": "DGfI5LjwIyja",
        "colab_type": "code",
        "colab": {
          "base_uri": "https://localhost:8080/",
          "height": 479
        },
        "outputId": "942bee6d-f523-4ba6-b2e9-c6b26c1ee3ea"
      },
      "source": [
        "# Viewing the type of data in the \"Displayed comment\" attribute\n",
        "# This is to check if the data is important for this analysis\n",
        "df['Displayed comment'].unique()"
      ],
      "execution_count": 130,
      "outputs": [
        {
          "output_type": "execute_result",
          "data": {
            "text/plain": [
              "array([nan, 'Station en parking (niv -1), accÃ\\x83Â¨s 37 rue Leblanc',\n",
              "       'Station en parking (niv 0), accÃ\\x83Â¨s 26 villa Croix Nivert',\n",
              "       'Station en parking (niv -2), accÃ\\x83Â¨s 4 av. Foch',\n",
              "       \"Borne d'abonnement en sous-sol (niv -1), accÃ\\x83Â¨s 4 rue Lobau\",\n",
              "       'Station en parking (niv -1), accÃ\\x83Â¨s rue Wilson',\n",
              "       'Station en parking (niv -1), accÃ\\x83Â¨s Place Georges Pompidou',\n",
              "       'Station en parking (niv -3), accÃ\\x83Â¨s 32 rue dÃ¢Â\\x80Â\\x99Alsace',\n",
              "       'Station en parking (niv -2), accÃ\\x83Â¨s 2 avenue Gabriel',\n",
              "       'Station en parking (niv -1), accÃ\\x83Â¨s av. de Versailles',\n",
              "       'Station en parking (niv -1), accÃ\\x83Â¨s rue Abel Gance',\n",
              "       'Station en parking (niv -1), accÃ\\x83Â¨s 4 av. des Ternes',\n",
              "       'Station en parking (niv -1), Station B (sur la droite)',\n",
              "       'Station en parking',\n",
              "       'Station en parking (niv -2), accÃ\\x83Â¨s 125 bvd du Montparnasse',\n",
              "       'Station en parking (niv -1), Station A (sur la gauche)',\n",
              "       'Station en parking (niv -1), accÃ\\x83Â¨s 8 rue Louise Michel',\n",
              "       'Station en parking (niv -1), accÃ\\x83Â¨s 26 bvd Gouvion Saint-Cyr',\n",
              "       'Station en parking (niv -1), accÃ\\x83Â¨s rue Marjolin',\n",
              "       'Station en parking (niv -1), accÃ\\x83Â¨s 141 rue Lecourbe',\n",
              "       'Station en parking (niv -1), accÃ\\x83Â¨s 37 rue Wilson',\n",
              "       'Station en parking (niv -2), accÃ\\x83Â¨s 155 rue de Rennes',\n",
              "       'Station en parking (niv -1), accÃ\\x83Â¨s av. gÃ\\x83Â©n Sarrail',\n",
              "       'Station en parking (niv -1), accÃ\\x83Â¨s 33 rue Ernest Cognacq',\n",
              "       'Station en parking (niv -1), accÃ\\x83Â¨s 80 rue Wilson',\n",
              "       \"Station en parking (niv -1), accÃ\\x83Â¨s 29 quai d'Austerlitz\"],\n",
              "      dtype=object)"
            ]
          },
          "metadata": {
            "tags": []
          },
          "execution_count": 130
        }
      ]
    },
    {
      "cell_type": "markdown",
      "metadata": {
        "id": "_0Ng2algNcYB",
        "colab_type": "text"
      },
      "source": [
        "This data is not relevant for the analysis"
      ]
    },
    {
      "cell_type": "code",
      "metadata": {
        "id": "XfYivXuY65M0",
        "colab_type": "code",
        "colab": {
          "base_uri": "https://localhost:8080/",
          "height": 88
        },
        "outputId": "70328d1f-6189-44e4-99b0-10101465630a"
      },
      "source": [
        "# Viewing the type of data in the \"Scheduled at\" attribute\n",
        "# This is to check if the data is important for this analysis\n",
        "df['Scheduled at'].unique()"
      ],
      "execution_count": 131,
      "outputs": [
        {
          "output_type": "execute_result",
          "data": {
            "text/plain": [
              "array([nan, '2016-07-27T15:32:21', '2016-07-05T13:10:09',\n",
              "       '2015-09-29T13:58:29', '2016-04-26T14:28:01',\n",
              "       '2012-09-17T08:57:28', '2016-01-06T10:35:38',\n",
              "       '2018-01-03T10:52:00', '2016-07-27T15:32:22'], dtype=object)"
            ]
          },
          "metadata": {
            "tags": []
          },
          "execution_count": 131
        }
      ]
    },
    {
      "cell_type": "markdown",
      "metadata": {
        "id": "exV6XKbgNrGm",
        "colab_type": "text"
      },
      "source": [
        "This data is not relevant for the analysis."
      ]
    },
    {
      "cell_type": "code",
      "metadata": {
        "id": "FBl3gQlu6-qV",
        "colab_type": "code",
        "colab": {
          "base_uri": "https://localhost:8080/",
          "height": 497
        },
        "outputId": "bf9e344f-917c-4f5f-f8f7-9c9461eedc81"
      },
      "source": [
        "# Dropping the irrelevant attributes\n",
        "\n",
        "df = df.drop([\"Displayed comment\", \"Scheduled at\"], axis = 1)\n",
        "\n",
        "df.info()"
      ],
      "execution_count": 132,
      "outputs": [
        {
          "output_type": "stream",
          "text": [
            "<class 'pandas.core.frame.DataFrame'>\n",
            "RangeIndex: 5000 entries, 0 to 4999\n",
            "Data columns (total 22 columns):\n",
            "Address                5000 non-null object\n",
            "Bluecar counter        5000 non-null int64\n",
            "Utilib counter         5000 non-null int64\n",
            "Utilib 1.4 counter     5000 non-null int64\n",
            "Charge Slots           5000 non-null int64\n",
            "Charging Status        5000 non-null object\n",
            "City                   5000 non-null object\n",
            "ID                     5000 non-null object\n",
            "Kind                   5000 non-null object\n",
            "Geo point              5000 non-null object\n",
            "Postal code            5000 non-null int64\n",
            "Public name            5000 non-null object\n",
            "Rental status          5000 non-null object\n",
            "Slots                  5000 non-null int64\n",
            "Station type           5000 non-null object\n",
            "Status                 5000 non-null object\n",
            "Subscription status    5000 non-null object\n",
            "year                   5000 non-null int64\n",
            "month                  5000 non-null int64\n",
            "day                    5000 non-null int64\n",
            "hour                   5000 non-null int64\n",
            "minute                 5000 non-null int64\n",
            "dtypes: int64(11), object(11)\n",
            "memory usage: 859.5+ KB\n"
          ],
          "name": "stdout"
        }
      ]
    },
    {
      "cell_type": "code",
      "metadata": {
        "id": "_9TIQoCuBXIm",
        "colab_type": "code",
        "colab": {
          "base_uri": "https://localhost:8080/",
          "height": 639
        },
        "outputId": "e83f8cb1-e033-4e0c-a1a5-628178f3ed95"
      },
      "source": [
        "# Checking for outliers\n",
        "Q1 = df.quantile(0.25)\n",
        "Q3 = df.quantile(0.75)\n",
        "IQR = Q3 - Q1\n",
        "\n",
        "print(IQR)\n",
        "\n",
        "((df < (Q1 - 1.5 * IQR)) | (df > (Q3 + 1.5 * IQR))).sum()\n"
      ],
      "execution_count": 133,
      "outputs": [
        {
          "output_type": "stream",
          "text": [
            "Bluecar counter           4.0\n",
            "Utilib counter            0.0\n",
            "Utilib 1.4 counter        0.0\n",
            "Charge Slots              0.0\n",
            "Postal code           17308.0\n",
            "Slots                     3.0\n",
            "year                      0.0\n",
            "month                     0.0\n",
            "day                       4.0\n",
            "hour                     12.0\n",
            "minute                   30.0\n",
            "dtype: float64\n"
          ],
          "name": "stdout"
        },
        {
          "output_type": "execute_result",
          "data": {
            "text/plain": [
              "Address                  0\n",
              "Bluecar counter          0\n",
              "Charge Slots           994\n",
              "Charging Status          0\n",
              "City                     0\n",
              "Geo point                0\n",
              "ID                       0\n",
              "Kind                     0\n",
              "Postal code              0\n",
              "Public name              0\n",
              "Rental status            0\n",
              "Slots                    0\n",
              "Station type             0\n",
              "Status                   0\n",
              "Subscription status      0\n",
              "Utilib 1.4 counter     569\n",
              "Utilib counter         286\n",
              "day                      0\n",
              "hour                     0\n",
              "minute                   0\n",
              "month                    0\n",
              "year                     0\n",
              "dtype: int64"
            ]
          },
          "metadata": {
            "tags": []
          },
          "execution_count": 133
        }
      ]
    },
    {
      "cell_type": "code",
      "metadata": {
        "id": "mTgtN2ZHOS4w",
        "colab_type": "code",
        "colab": {
          "base_uri": "https://localhost:8080/",
          "height": 297
        },
        "outputId": "5d717dad-bb1b-4cca-b4f2-3ed850942236"
      },
      "source": [
        "# Boxplot for Charge Slots to visualize outliers\n",
        "import seaborn as sns\n",
        "\n",
        "sns.boxplot(x = df['Charge Slots'])"
      ],
      "execution_count": 134,
      "outputs": [
        {
          "output_type": "execute_result",
          "data": {
            "text/plain": [
              "<matplotlib.axes._subplots.AxesSubplot at 0x7fd7b2d8e748>"
            ]
          },
          "metadata": {
            "tags": []
          },
          "execution_count": 134
        },
        {
          "output_type": "display_data",
          "data": {
            "image/png": "[encoded data removed]",
            "text/plain": [
              "<Figure size 432x288 with 1 Axes>"
            ]
          },
          "metadata": {
            "tags": []
          }
        }
      ]
    },
    {
      "cell_type": "code",
      "metadata": {
        "id": "vlMjPQBxQA5d",
        "colab_type": "code",
        "colab": {
          "base_uri": "https://localhost:8080/",
          "height": 297
        },
        "outputId": "30c7bff7-9697-4c18-e69b-5c5f5395659a"
      },
      "source": [
        "# Boxplot for Utilib 1.4 counter to visualize outliers\n",
        "import seaborn as sns\n",
        "\n",
        "sns.boxplot(x = df['Utilib 1.4 counter'])"
      ],
      "execution_count": 135,
      "outputs": [
        {
          "output_type": "execute_result",
          "data": {
            "text/plain": [
              "<matplotlib.axes._subplots.AxesSubplot at 0x7fd7b2c502b0>"
            ]
          },
          "metadata": {
            "tags": []
          },
          "execution_count": 135
        },
        {
          "output_type": "display_data",
          "data": {
            "image/png": "[encoded data removed]",
            "text/plain": [
              "<Figure size 432x288 with 1 Axes>"
            ]
          },
          "metadata": {
            "tags": []
          }
        }
      ]
    },
    {
      "cell_type": "code",
      "metadata": {
        "id": "80y2IoGnQFwO",
        "colab_type": "code",
        "colab": {
          "base_uri": "https://localhost:8080/",
          "height": 297
        },
        "outputId": "35973a3b-e246-4729-cc8e-69f0df7b1a33"
      },
      "source": [
        "# Boxplot for Utilib 1.4 counter to visualize outliers\n",
        "import seaborn as sns\n",
        "\n",
        "sns.boxplot(x = df['Utilib counter'])"
      ],
      "execution_count": 136,
      "outputs": [
        {
          "output_type": "execute_result",
          "data": {
            "text/plain": [
              "<matplotlib.axes._subplots.AxesSubplot at 0x7fd7b2c0f908>"
            ]
          },
          "metadata": {
            "tags": []
          },
          "execution_count": 136
        },
        {
          "output_type": "display_data",
          "data": {
            "image/png": "[encoded data removed]",
            "text/plain": [
              "<Figure size 432x288 with 1 Axes>"
            ]
          },
          "metadata": {
            "tags": []
          }
        }
      ]
    },
    {
      "cell_type": "markdown",
      "metadata": {
        "id": "JIuRo_AmQbmG",
        "colab_type": "text"
      },
      "source": [
        "Outliers seem to be in columns where the mode and IQR are 0 so I will not remove them."
      ]
    },
    {
      "cell_type": "markdown",
      "metadata": {
        "id": "ULZqT7GWSHBh",
        "colab_type": "text"
      },
      "source": [
        "# Data Accuracy"
      ]
    },
    {
      "cell_type": "code",
      "metadata": {
        "id": "00J5hB0XQ3Wj",
        "colab_type": "code",
        "colab": {
          "base_uri": "https://localhost:8080/",
          "height": 102
        },
        "outputId": "c4f38936-13cb-48f3-a109-285812d61482"
      },
      "source": [
        "# Checking that charge slots > 1 only when charging status is \"operational\" \n",
        "df[(df['Charge Slots'] > 1) & (df['Charging Status'] != 'operational')]"
      ],
      "execution_count": 139,
      "outputs": [
        {
          "output_type": "execute_result",
          "data": {
            "text/html": [
              "<div>\n",
              "<style scoped>\n",
              "    .dataframe tbody tr th:only-of-type {\n",
              "        vertical-align: middle;\n",
              "    }\n",
              "\n",
              "    .dataframe tbody tr th {\n",
              "        vertical-align: top;\n",
              "    }\n",
              "\n",
              "    .dataframe thead th {\n",
              "        text-align: right;\n",
              "    }\n",
              "</style>\n",
              "<table border=\"1\" class=\"dataframe\">\n",
              "  <thead>\n",
              "    <tr style=\"text-align: right;\">\n",
              "      <th></th>\n",
              "      <th>Address</th>\n",
              "      <th>Bluecar counter</th>\n",
              "      <th>Utilib counter</th>\n",
              "      <th>Utilib 1.4 counter</th>\n",
              "      <th>Charge Slots</th>\n",
              "      <th>Charging Status</th>\n",
              "      <th>City</th>\n",
              "      <th>ID</th>\n",
              "      <th>Kind</th>\n",
              "      <th>Geo point</th>\n",
              "      <th>Postal code</th>\n",
              "      <th>Public name</th>\n",
              "      <th>Rental status</th>\n",
              "      <th>Slots</th>\n",
              "      <th>Station type</th>\n",
              "      <th>Status</th>\n",
              "      <th>Subscription status</th>\n",
              "      <th>year</th>\n",
              "      <th>month</th>\n",
              "      <th>day</th>\n",
              "      <th>hour</th>\n",
              "      <th>minute</th>\n",
              "    </tr>\n",
              "  </thead>\n",
              "  <tbody>\n",
              "  </tbody>\n",
              "</table>\n",
              "</div>"
            ],
            "text/plain": [
              "Empty DataFrame\n",
              "Columns: [Address, Bluecar counter, Utilib counter, Utilib 1.4 counter, Charge Slots, Charging Status, City, ID, Kind, Geo point, Postal code, Public name, Rental status, Slots, Station type, Status, Subscription status, year, month, day, hour, minute]\n",
              "Index: []"
            ]
          },
          "metadata": {
            "tags": []
          },
          "execution_count": 139
        }
      ]
    },
    {
      "cell_type": "code",
      "metadata": {
        "id": "4tMSB8ebTghF",
        "colab_type": "code",
        "colab": {
          "base_uri": "https://localhost:8080/",
          "height": 772
        },
        "outputId": "ad8e97cb-f4e1-41d1-a89b-6d3f2f74c035"
      },
      "source": [
        "# Selecting stations with no resources \n",
        "a = df[(df['Bluecar counter'] == 0) & (df['Utilib 1.4 counter'] == 0) & (df['Utilib counter'] == 0) & (df['Charge Slots'] == 0) & (df['Slots'] == 0)]\n",
        "a"
      ],
      "execution_count": 151,
      "outputs": [
        {
          "output_type": "execute_result",
          "data": {
            "text/html": [
              "<div>\n",
              "<style scoped>\n",
              "    .dataframe tbody tr th:only-of-type {\n",
              "        vertical-align: middle;\n",
              "    }\n",
              "\n",
              "    .dataframe tbody tr th {\n",
              "        vertical-align: top;\n",
              "    }\n",
              "\n",
              "    .dataframe thead th {\n",
              "        text-align: right;\n",
              "    }\n",
              "</style>\n",
              "<table border=\"1\" class=\"dataframe\">\n",
              "  <thead>\n",
              "    <tr style=\"text-align: right;\">\n",
              "      <th></th>\n",
              "      <th>Address</th>\n",
              "      <th>Bluecar counter</th>\n",
              "      <th>Utilib counter</th>\n",
              "      <th>Utilib 1.4 counter</th>\n",
              "      <th>Charge Slots</th>\n",
              "      <th>Charging Status</th>\n",
              "      <th>City</th>\n",
              "      <th>ID</th>\n",
              "      <th>Kind</th>\n",
              "      <th>Geo point</th>\n",
              "      <th>Postal code</th>\n",
              "      <th>Public name</th>\n",
              "      <th>Rental status</th>\n",
              "      <th>Slots</th>\n",
              "      <th>Station type</th>\n",
              "      <th>Status</th>\n",
              "      <th>Subscription status</th>\n",
              "      <th>year</th>\n",
              "      <th>month</th>\n",
              "      <th>day</th>\n",
              "      <th>hour</th>\n",
              "      <th>minute</th>\n",
              "    </tr>\n",
              "  </thead>\n",
              "  <tbody>\n",
              "    <tr>\n",
              "      <th>6</th>\n",
              "      <td>37 rue Leblanc</td>\n",
              "      <td>0</td>\n",
              "      <td>0</td>\n",
              "      <td>0</td>\n",
              "      <td>0</td>\n",
              "      <td>nonexistent</td>\n",
              "      <td>Paris</td>\n",
              "      <td>paris-citroencevennes-parking</td>\n",
              "      <td>PARKING</td>\n",
              "      <td>48.83874, 2.27641</td>\n",
              "      <td>75015</td>\n",
              "      <td>Paris/CitroÃÂ«n CÃÂ©vennes/Parking</td>\n",
              "      <td>broken</td>\n",
              "      <td>0</td>\n",
              "      <td>station</td>\n",
              "      <td>closed</td>\n",
              "      <td>nonexistent</td>\n",
              "      <td>2018</td>\n",
              "      <td>4</td>\n",
              "      <td>8</td>\n",
              "      <td>18</td>\n",
              "      <td>20</td>\n",
              "    </tr>\n",
              "    <tr>\n",
              "      <th>13</th>\n",
              "      <td>34 avenue Jean Moulin</td>\n",
              "      <td>0</td>\n",
              "      <td>0</td>\n",
              "      <td>0</td>\n",
              "      <td>0</td>\n",
              "      <td>nonexistent</td>\n",
              "      <td>Paris</td>\n",
              "      <td>paris-jeanmoulin-34</td>\n",
              "      <td>STATION</td>\n",
              "      <td>48.8266807, 2.3237355</td>\n",
              "      <td>75014</td>\n",
              "      <td>Paris/Jean Moulin/34</td>\n",
              "      <td>operational</td>\n",
              "      <td>0</td>\n",
              "      <td>station</td>\n",
              "      <td>ok</td>\n",
              "      <td>nonexistent</td>\n",
              "      <td>2018</td>\n",
              "      <td>4</td>\n",
              "      <td>8</td>\n",
              "      <td>21</td>\n",
              "      <td>54</td>\n",
              "    </tr>\n",
              "    <tr>\n",
              "      <th>29</th>\n",
              "      <td>35 rue de Boucry</td>\n",
              "      <td>0</td>\n",
              "      <td>0</td>\n",
              "      <td>0</td>\n",
              "      <td>0</td>\n",
              "      <td>broken</td>\n",
              "      <td>Paris</td>\n",
              "      <td>paris-boucry-35</td>\n",
              "      <td>STATION</td>\n",
              "      <td>48.895148, 2.3595823</td>\n",
              "      <td>75018</td>\n",
              "      <td>Paris/Boucry/35</td>\n",
              "      <td>broken</td>\n",
              "      <td>0</td>\n",
              "      <td>station</td>\n",
              "      <td>closed</td>\n",
              "      <td>nonexistent</td>\n",
              "      <td>2018</td>\n",
              "      <td>4</td>\n",
              "      <td>8</td>\n",
              "      <td>2</td>\n",
              "      <td>29</td>\n",
              "    </tr>\n",
              "    <tr>\n",
              "      <th>46</th>\n",
              "      <td>81 avenue de la Grande ArmÃÂ©e</td>\n",
              "      <td>0</td>\n",
              "      <td>0</td>\n",
              "      <td>0</td>\n",
              "      <td>0</td>\n",
              "      <td>broken</td>\n",
              "      <td>Paris</td>\n",
              "      <td>paris-grandearmee-81</td>\n",
              "      <td>STATION</td>\n",
              "      <td>48.87678, 2.284807</td>\n",
              "      <td>75016</td>\n",
              "      <td>Paris/Grande ArmÃÂ©e/81</td>\n",
              "      <td>broken</td>\n",
              "      <td>0</td>\n",
              "      <td>station</td>\n",
              "      <td>closed</td>\n",
              "      <td>nonexistent</td>\n",
              "      <td>2018</td>\n",
              "      <td>4</td>\n",
              "      <td>6</td>\n",
              "      <td>21</td>\n",
              "      <td>2</td>\n",
              "    </tr>\n",
              "    <tr>\n",
              "      <th>68</th>\n",
              "      <td>6 avenue Foch</td>\n",
              "      <td>0</td>\n",
              "      <td>0</td>\n",
              "      <td>0</td>\n",
              "      <td>0</td>\n",
              "      <td>nonexistent</td>\n",
              "      <td>Paris</td>\n",
              "      <td>paris-etoilefoch-parking</td>\n",
              "      <td>PARKING</td>\n",
              "      <td>48.87366, 2.29201</td>\n",
              "      <td>75016</td>\n",
              "      <td>Paris/Etoile Foch/Parking</td>\n",
              "      <td>broken</td>\n",
              "      <td>0</td>\n",
              "      <td>station</td>\n",
              "      <td>closed</td>\n",
              "      <td>nonexistent</td>\n",
              "      <td>2018</td>\n",
              "      <td>4</td>\n",
              "      <td>5</td>\n",
              "      <td>3</td>\n",
              "      <td>11</td>\n",
              "    </tr>\n",
              "    <tr>\n",
              "      <th>...</th>\n",
              "      <td>...</td>\n",
              "      <td>...</td>\n",
              "      <td>...</td>\n",
              "      <td>...</td>\n",
              "      <td>...</td>\n",
              "      <td>...</td>\n",
              "      <td>...</td>\n",
              "      <td>...</td>\n",
              "      <td>...</td>\n",
              "      <td>...</td>\n",
              "      <td>...</td>\n",
              "      <td>...</td>\n",
              "      <td>...</td>\n",
              "      <td>...</td>\n",
              "      <td>...</td>\n",
              "      <td>...</td>\n",
              "      <td>...</td>\n",
              "      <td>...</td>\n",
              "      <td>...</td>\n",
              "      <td>...</td>\n",
              "      <td>...</td>\n",
              "      <td>...</td>\n",
              "    </tr>\n",
              "    <tr>\n",
              "      <th>4931</th>\n",
              "      <td>6 avenue Foch</td>\n",
              "      <td>0</td>\n",
              "      <td>0</td>\n",
              "      <td>0</td>\n",
              "      <td>0</td>\n",
              "      <td>nonexistent</td>\n",
              "      <td>Paris</td>\n",
              "      <td>paris-etoilefoch-parking</td>\n",
              "      <td>PARKING</td>\n",
              "      <td>48.87366, 2.29201</td>\n",
              "      <td>75016</td>\n",
              "      <td>Paris/Etoile Foch/Parking</td>\n",
              "      <td>broken</td>\n",
              "      <td>0</td>\n",
              "      <td>station</td>\n",
              "      <td>closed</td>\n",
              "      <td>nonexistent</td>\n",
              "      <td>2018</td>\n",
              "      <td>4</td>\n",
              "      <td>3</td>\n",
              "      <td>14</td>\n",
              "      <td>37</td>\n",
              "    </tr>\n",
              "    <tr>\n",
              "      <th>4960</th>\n",
              "      <td>1 rue Pierre Chausson</td>\n",
              "      <td>0</td>\n",
              "      <td>0</td>\n",
              "      <td>0</td>\n",
              "      <td>0</td>\n",
              "      <td>nonexistent</td>\n",
              "      <td>Paris</td>\n",
              "      <td>paris-pierrechausson-1</td>\n",
              "      <td>STATION</td>\n",
              "      <td>48.8702567, 2.3600462</td>\n",
              "      <td>75010</td>\n",
              "      <td>Paris/Pierre Chausson/1</td>\n",
              "      <td>broken</td>\n",
              "      <td>0</td>\n",
              "      <td>station</td>\n",
              "      <td>closed</td>\n",
              "      <td>nonexistent</td>\n",
              "      <td>2018</td>\n",
              "      <td>4</td>\n",
              "      <td>8</td>\n",
              "      <td>19</td>\n",
              "      <td>0</td>\n",
              "    </tr>\n",
              "    <tr>\n",
              "      <th>4961</th>\n",
              "      <td>69 boulevard Pasteur</td>\n",
              "      <td>0</td>\n",
              "      <td>0</td>\n",
              "      <td>0</td>\n",
              "      <td>0</td>\n",
              "      <td>nonexistent</td>\n",
              "      <td>Paris</td>\n",
              "      <td>paris-pasteur2-parking</td>\n",
              "      <td>PARKING</td>\n",
              "      <td>48.84064, 2.3148</td>\n",
              "      <td>75015</td>\n",
              "      <td>Paris/Pasteur 2/Parking</td>\n",
              "      <td>broken</td>\n",
              "      <td>0</td>\n",
              "      <td>station</td>\n",
              "      <td>closed</td>\n",
              "      <td>nonexistent</td>\n",
              "      <td>2018</td>\n",
              "      <td>4</td>\n",
              "      <td>7</td>\n",
              "      <td>21</td>\n",
              "      <td>8</td>\n",
              "    </tr>\n",
              "    <tr>\n",
              "      <th>4975</th>\n",
              "      <td>91 Rue du Faubourg Saint-HonorÃÂ©</td>\n",
              "      <td>0</td>\n",
              "      <td>0</td>\n",
              "      <td>0</td>\n",
              "      <td>0</td>\n",
              "      <td>broken</td>\n",
              "      <td>Paris</td>\n",
              "      <td>paris-sainthonore-91</td>\n",
              "      <td>STATION</td>\n",
              "      <td>48.872047, 2.3131252</td>\n",
              "      <td>75008</td>\n",
              "      <td>Paris/Saint-HonorÃÂ©/91</td>\n",
              "      <td>broken</td>\n",
              "      <td>0</td>\n",
              "      <td>station</td>\n",
              "      <td>closed</td>\n",
              "      <td>nonexistent</td>\n",
              "      <td>2018</td>\n",
              "      <td>4</td>\n",
              "      <td>3</td>\n",
              "      <td>1</td>\n",
              "      <td>21</td>\n",
              "    </tr>\n",
              "    <tr>\n",
              "      <th>4981</th>\n",
              "      <td>59 Boulevard Voltaire</td>\n",
              "      <td>0</td>\n",
              "      <td>0</td>\n",
              "      <td>0</td>\n",
              "      <td>0</td>\n",
              "      <td>broken</td>\n",
              "      <td>Paris</td>\n",
              "      <td>paris-voltaire-59</td>\n",
              "      <td>STATION</td>\n",
              "      <td>48.8619069, 2.3735705</td>\n",
              "      <td>75011</td>\n",
              "      <td>Paris/Voltaire/59</td>\n",
              "      <td>broken</td>\n",
              "      <td>0</td>\n",
              "      <td>station</td>\n",
              "      <td>closed</td>\n",
              "      <td>nonexistent</td>\n",
              "      <td>2018</td>\n",
              "      <td>4</td>\n",
              "      <td>8</td>\n",
              "      <td>7</td>\n",
              "      <td>33</td>\n",
              "    </tr>\n",
              "  </tbody>\n",
              "</table>\n",
              "<p>412 rows × 22 columns</p>\n",
              "</div>"
            ],
            "text/plain": [
              "                                 Address  Bluecar counter  ...  hour  minute\n",
              "6                         37 rue Leblanc                0  ...    18      20\n",
              "13                 34 avenue Jean Moulin                0  ...    21      54\n",
              "29                      35 rue de Boucry                0  ...     2      29\n",
              "46       81 avenue de la Grande ArmÃÂ©e                0  ...    21       2\n",
              "68                         6 avenue Foch                0  ...     3      11\n",
              "...                                  ...              ...  ...   ...     ...\n",
              "4931                       6 avenue Foch                0  ...    14      37\n",
              "4960               1 rue Pierre Chausson                0  ...    19       0\n",
              "4961                69 boulevard Pasteur                0  ...    21       8\n",
              "4975  91 Rue du Faubourg Saint-HonorÃÂ©                0  ...     1      21\n",
              "4981               59 Boulevard Voltaire                0  ...     7      33\n",
              "\n",
              "[412 rows x 22 columns]"
            ]
          },
          "metadata": {
            "tags": []
          },
          "execution_count": 151
        }
      ]
    },
    {
      "cell_type": "code",
      "metadata": {
        "id": "e10wa__rXBhx",
        "colab_type": "code",
        "colab": {
          "base_uri": "https://localhost:8080/",
          "height": 426
        },
        "outputId": "f0d6b176-63dc-48a7-af79-f56e9ab67982"
      },
      "source": [
        "# Checking that slots and vehicles are not available at stations with no resources\n",
        "a.sum()"
      ],
      "execution_count": 152,
      "outputs": [
        {
          "output_type": "execute_result",
          "data": {
            "text/plain": [
              "Address                37 rue Leblanc34 avenue Jean Moulin35 rue de B...\n",
              "Bluecar counter                                                        0\n",
              "Utilib counter                                                         0\n",
              "Utilib 1.4 counter                                                     0\n",
              "Charge Slots                                                           0\n",
              "Charging Status        nonexistentnonexistentbrokenbrokennonexistentn...\n",
              "City                   ParisParisParisParisParisParisParisVanvesChÃÂ...\n",
              "ID                     paris-citroencevennes-parkingparis-jeanmoulin-...\n",
              "Kind                   PARKINGSTATIONSTATIONSTATIONPARKINGPARKINGSTAT...\n",
              "Geo point              48.83874, 2.2764148.8266807, 2.323735548.89514...\n",
              "Postal code                                                     34487280\n",
              "Public name            Paris/CitroÃÂ«n CÃÂ©vennes/ParkingParis/Jean...\n",
              "Rental status          brokenoperationalbrokenbrokenbrokenbrokenopera...\n",
              "Slots                                                                  0\n",
              "Station type           stationstationstationstationstationstationstat...\n",
              "Status                 closedokclosedclosedclosedclosedokclosedclosed...\n",
              "Subscription status    nonexistentnonexistentnonexistentnonexistentno...\n",
              "year                                                              831416\n",
              "month                                                               1648\n",
              "day                                                                 2065\n",
              "hour                                                                4811\n",
              "minute                                                             11646\n",
              "dtype: object"
            ]
          },
          "metadata": {
            "tags": []
          },
          "execution_count": 152
        }
      ]
    },
    {
      "cell_type": "code",
      "metadata": {
        "id": "1gjLnX6ZU2wt",
        "colab_type": "code",
        "colab": {
          "base_uri": "https://localhost:8080/",
          "height": 426
        },
        "outputId": "2f205717-43a5-47a9-9204-eecd2dfd4c0f"
      },
      "source": [
        "# Checking that stations of Kind \"CENTER\" have no resources (Bluecar, Utilib, Utilib 1.4, Charge slots, Slots)\n",
        "df[df['Kind'] == 'CENTER'].sum()"
      ],
      "execution_count": 149,
      "outputs": [
        {
          "output_type": "execute_result",
          "data": {
            "text/plain": [
              "Address                20 Quai de la MÃÂ©gisserie20 Quai de la MÃÂ©...\n",
              "Bluecar counter                                                        0\n",
              "Utilib counter                                                         0\n",
              "Utilib 1.4 counter                                                     0\n",
              "Charge Slots                                                           0\n",
              "Charging Status                        nonexistentnonexistentnonexistent\n",
              "City                                                     ParisParisParis\n",
              "ID                     paris-megisserie-20paris-megisserie-20paris-me...\n",
              "Kind                                                  CENTERCENTERCENTER\n",
              "Geo point              48.858271, 2.3434548.858271, 2.3434548.858271,...\n",
              "Postal code                                                       225003\n",
              "Public name            Paris/Megisserie/20Paris/Megisserie/20Paris/Me...\n",
              "Rental status                          nonexistentnonexistentnonexistent\n",
              "Slots                                                                  0\n",
              "Station type                           subs_centersubs_centersubs_center\n",
              "Status                                                    closedokclosed\n",
              "Subscription status                              brokenoperationalbroken\n",
              "year                                                                6054\n",
              "month                                                                 12\n",
              "day                                                                   15\n",
              "hour                                                                  20\n",
              "minute                                                                31\n",
              "dtype: object"
            ]
          },
          "metadata": {
            "tags": []
          },
          "execution_count": 149
        }
      ]
    },
    {
      "cell_type": "code",
      "metadata": {
        "id": "PH7PHneVVa7_",
        "colab_type": "code",
        "colab": {
          "base_uri": "https://localhost:8080/",
          "height": 426
        },
        "outputId": "0d5aacb2-15b5-4989-d1ef-9a0b3b8fa587"
      },
      "source": [
        "# Checking that stations of Kind \"PARKING\" do not have charge slots\n",
        "df[df['Kind'] == 'PARKING'].sum()"
      ],
      "execution_count": 148,
      "outputs": [
        {
          "output_type": "execute_result",
          "data": {
            "text/plain": [
              "Address                6 avenue de la Porte de Champerret37 rue Lebla...\n",
              "Bluecar counter                                                      378\n",
              "Utilib counter                                                         8\n",
              "Utilib 1.4 counter                                                    23\n",
              "Charge Slots                                                           0\n",
              "Charging Status        nonexistentnonexistentnonexistentnonexistentno...\n",
              "City                   ParisParisParisParisParisParisParisParisParisL...\n",
              "ID                     paris-portedechamperret-6paris-citroencevennes...\n",
              "Kind                   PARKINGPARKINGPARKINGPARKINGPARKINGPARKINGPARK...\n",
              "Geo point              48.8862632, 2.287451148.83874, 2.2764148.88267...\n",
              "Postal code                                                     18138650\n",
              "Public name            Paris/Porte de Champerret/6Paris/CitroÃÂ«n CÃ...\n",
              "Rental status          operationalbrokenoperationaloperationaloperati...\n",
              "Slots                                                                389\n",
              "Station type           stationstationstationstationstationstationstat...\n",
              "Status                 okclosedokokokokclosedclosedokokokokclosedokok...\n",
              "Subscription status    nonexistentnonexistentnonexistentnonexistentno...\n",
              "year                                                              458086\n",
              "month                                                                908\n",
              "day                                                                 1095\n",
              "hour                                                                2608\n",
              "minute                                                              6346\n",
              "dtype: object"
            ]
          },
          "metadata": {
            "tags": []
          },
          "execution_count": 148
        }
      ]
    },
    {
      "cell_type": "code",
      "metadata": {
        "id": "HmI0zoHHY2B7",
        "colab_type": "code",
        "colab": {
          "base_uri": "https://localhost:8080/",
          "height": 426
        },
        "outputId": "204c239c-2046-49fe-cbdf-f034e1e55bde"
      },
      "source": [
        "# Checking that stations with \"broken\" as Rental status do not have resources other than slots\n",
        "df[df['Rental status'] == \"broken\"].sum()"
      ],
      "execution_count": 158,
      "outputs": [
        {
          "output_type": "execute_result",
          "data": {
            "text/plain": [
              "Address                37 rue Leblanc35 rue de Boucry81 avenue de la ...\n",
              "Bluecar counter                                                        0\n",
              "Utilib counter                                                         0\n",
              "Utilib 1.4 counter                                                     0\n",
              "Charge Slots                                                           0\n",
              "Charging Status        nonexistentbrokenbrokennonexistentnonexistentn...\n",
              "City                   ParisParisParisParisParisVanvesChÃÂ¢tenay-Mal...\n",
              "ID                     paris-citroencevennes-parkingparis-boucry-35pa...\n",
              "Kind                   PARKINGSTATIONSTATIONPARKINGPARKINGSTATIONSTAT...\n",
              "Geo point              48.83874, 2.2764148.895148, 2.359582348.87678,...\n",
              "Postal code                                                     27746542\n",
              "Public name            Paris/CitroÃÂ«n CÃÂ©vennes/ParkingParis/Bouc...\n",
              "Rental status          brokenbrokenbrokenbrokenbrokenbrokenbrokenbrok...\n",
              "Slots                                                                  0\n",
              "Station type           stationstationstationstationstationstationstat...\n",
              "Status                 closedclosedclosedclosedclosedclosedclosedclos...\n",
              "Subscription status    nonexistentnonexistentnonexistentnonexistentbr...\n",
              "year                                                              669976\n",
              "month                                                               1328\n",
              "day                                                                 1638\n",
              "hour                                                                3809\n",
              "minute                                                              9352\n",
              "dtype: object"
            ]
          },
          "metadata": {
            "tags": []
          },
          "execution_count": 158
        }
      ]
    },
    {
      "cell_type": "code",
      "metadata": {
        "id": "pkGDulqfaKhN",
        "colab_type": "code",
        "colab": {}
      },
      "source": [
        ""
      ],
      "execution_count": 0,
      "outputs": []
    }
  ]
}