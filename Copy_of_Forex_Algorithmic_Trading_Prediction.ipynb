{
  "nbformat": 4,
  "nbformat_minor": 0,
  "metadata": {
    "colab": {
      "name": "Copy of Forex Algorithmic Trading Prediction.ipynb",
      "provenance": [],
      "collapsed_sections": [],
      "include_colab_link": true
    },
    "kernelspec": {
      "name": "python3",
      "display_name": "Python 3"
    }
  },
  "cells": [
    {
      "cell_type": "markdown",
      "metadata": {
        "id": "view-in-github",
        "colab_type": "text"
      },
      "source": [
        "<a href=\"https://colab.research.google.com/github/mmalinda/DS-Prep/blob/master/Copy_of_Forex_Algorithmic_Trading_Prediction.ipynb\" target=\"_parent\"><img src=\"https://colab.research.google.com/assets/colab-badge.svg\" alt=\"Open In Colab\"/></a>"
      ]
    },
    {
      "cell_type": "markdown",
      "metadata": {
        "id": "lyk_U-RHkQXz",
        "colab_type": "text"
      },
      "source": [
        "## Business Understanding"
      ]
    },
    {
      "cell_type": "markdown",
      "metadata": {
        "id": "ukyXMnqfkVzF",
        "colab_type": "text"
      },
      "source": [
        "## Data Importation\n"
      ]
    },
    {
      "cell_type": "code",
      "metadata": {
        "id": "0HeRfPQJ5uTv",
        "colab_type": "code",
        "colab": {}
      },
      "source": [
        "import datetime  as dt"
      ],
      "execution_count": 0,
      "outputs": []
    },
    {
      "cell_type": "code",
      "metadata": {
        "id": "WDpDLu7Aka-L",
        "colab_type": "code",
        "colab": {}
      },
      "source": [
        "## FXCM Libraries\n",
        "# Install Pre-requisite libraries\n",
        "# !pip  install fxcmpy\n",
        "# !pip install python-socketio\n",
        "\n",
        "# Import\n",
        "import fxcmpy"
      ],
      "execution_count": 0,
      "outputs": []
    },
    {
      "cell_type": "code",
      "metadata": {
        "id": "JbvShgnurRPW",
        "colab_type": "code",
        "colab": {}
      },
      "source": [
        "TOKEN = \"d106ebeb8f29e67631c915462a0f8f1ceee622b4\"\n",
        "api = fxcmpy.fxcmpy(access_token = TOKEN, log_level = 'error')"
      ],
      "execution_count": 0,
      "outputs": []
    },
    {
      "cell_type": "markdown",
      "metadata": {
        "id": "-mDdaUyi59U4",
        "colab_type": "text"
      },
      "source": [
        "View Instruments\n"
      ]
    },
    {
      "cell_type": "code",
      "metadata": {
        "id": "h405Bsi6wdyN",
        "colab_type": "code",
        "outputId": "3451297c-59dd-4c14-c86d-f0a880092356",
        "colab": {
          "base_uri": "https://localhost:8080/",
          "height": 33
        }
      },
      "source": [
        "instruments = api.get_instruments()\n",
        "print(instruments[:5])"
      ],
      "execution_count": 4,
      "outputs": [
        {
          "output_type": "stream",
          "text": [
            "['EUR/USD', 'USD/JPY', 'GBP/USD', 'USD/CHF', 'EUR/CHF']\n"
          ],
          "name": "stdout"
        }
      ]
    },
    {
      "cell_type": "markdown",
      "metadata": {
        "id": "GARs-Wn8zP48",
        "colab_type": "text"
      },
      "source": [
        "### Historical Data"
      ]
    },
    {
      "cell_type": "markdown",
      "metadata": {
        "id": "c1HtRS2v6W5D",
        "colab_type": "text"
      },
      "source": [
        "Data for today\n"
      ]
    },
    {
      "cell_type": "code",
      "metadata": {
        "id": "_gD1PrKazUyj",
        "colab_type": "code",
        "outputId": "c3cfb47e-fa34-4fcc-9bfc-99e502fb45c8",
        "colab": {
          "base_uri": "https://localhost:8080/",
          "height": 377
        }
      },
      "source": [
        "candles = api.get_candles('USD/JPY', period='H1', number=10)\n",
        "candles"
      ],
      "execution_count": 5,
      "outputs": [
        {
          "output_type": "execute_result",
          "data": {
            "text/html": [
              "<div>\n",
              "<style scoped>\n",
              "    .dataframe tbody tr th:only-of-type {\n",
              "        vertical-align: middle;\n",
              "    }\n",
              "\n",
              "    .dataframe tbody tr th {\n",
              "        vertical-align: top;\n",
              "    }\n",
              "\n",
              "    .dataframe thead th {\n",
              "        text-align: right;\n",
              "    }\n",
              "</style>\n",
              "<table border=\"1\" class=\"dataframe\">\n",
              "  <thead>\n",
              "    <tr style=\"text-align: right;\">\n",
              "      <th></th>\n",
              "      <th>bidopen</th>\n",
              "      <th>bidclose</th>\n",
              "      <th>bidhigh</th>\n",
              "      <th>bidlow</th>\n",
              "      <th>askopen</th>\n",
              "      <th>askclose</th>\n",
              "      <th>askhigh</th>\n",
              "      <th>asklow</th>\n",
              "      <th>tickqty</th>\n",
              "    </tr>\n",
              "    <tr>\n",
              "      <th>date</th>\n",
              "      <th></th>\n",
              "      <th></th>\n",
              "      <th></th>\n",
              "      <th></th>\n",
              "      <th></th>\n",
              "      <th></th>\n",
              "      <th></th>\n",
              "      <th></th>\n",
              "      <th></th>\n",
              "    </tr>\n",
              "  </thead>\n",
              "  <tbody>\n",
              "    <tr>\n",
              "      <th>2020-03-31 21:00:00</th>\n",
              "      <td>107.488</td>\n",
              "      <td>107.521</td>\n",
              "      <td>107.566</td>\n",
              "      <td>107.479</td>\n",
              "      <td>107.561</td>\n",
              "      <td>107.551</td>\n",
              "      <td>107.632</td>\n",
              "      <td>107.551</td>\n",
              "      <td>210</td>\n",
              "    </tr>\n",
              "    <tr>\n",
              "      <th>2020-03-31 22:00:00</th>\n",
              "      <td>107.521</td>\n",
              "      <td>107.756</td>\n",
              "      <td>107.756</td>\n",
              "      <td>107.479</td>\n",
              "      <td>107.551</td>\n",
              "      <td>107.771</td>\n",
              "      <td>107.775</td>\n",
              "      <td>107.519</td>\n",
              "      <td>11472</td>\n",
              "    </tr>\n",
              "    <tr>\n",
              "      <th>2020-03-31 23:00:00</th>\n",
              "      <td>107.756</td>\n",
              "      <td>107.502</td>\n",
              "      <td>107.756</td>\n",
              "      <td>107.396</td>\n",
              "      <td>107.771</td>\n",
              "      <td>107.521</td>\n",
              "      <td>107.771</td>\n",
              "      <td>107.411</td>\n",
              "      <td>17229</td>\n",
              "    </tr>\n",
              "    <tr>\n",
              "      <th>2020-04-01 00:00:00</th>\n",
              "      <td>107.502</td>\n",
              "      <td>107.485</td>\n",
              "      <td>107.579</td>\n",
              "      <td>107.249</td>\n",
              "      <td>107.521</td>\n",
              "      <td>107.501</td>\n",
              "      <td>107.594</td>\n",
              "      <td>107.263</td>\n",
              "      <td>38494</td>\n",
              "    </tr>\n",
              "    <tr>\n",
              "      <th>2020-04-01 01:00:00</th>\n",
              "      <td>107.485</td>\n",
              "      <td>107.705</td>\n",
              "      <td>107.728</td>\n",
              "      <td>107.421</td>\n",
              "      <td>107.501</td>\n",
              "      <td>107.722</td>\n",
              "      <td>107.742</td>\n",
              "      <td>107.436</td>\n",
              "      <td>29869</td>\n",
              "    </tr>\n",
              "    <tr>\n",
              "      <th>2020-04-01 02:00:00</th>\n",
              "      <td>107.705</td>\n",
              "      <td>107.688</td>\n",
              "      <td>107.933</td>\n",
              "      <td>107.666</td>\n",
              "      <td>107.722</td>\n",
              "      <td>107.702</td>\n",
              "      <td>107.950</td>\n",
              "      <td>107.681</td>\n",
              "      <td>20419</td>\n",
              "    </tr>\n",
              "    <tr>\n",
              "      <th>2020-04-01 03:00:00</th>\n",
              "      <td>107.688</td>\n",
              "      <td>107.788</td>\n",
              "      <td>107.836</td>\n",
              "      <td>107.624</td>\n",
              "      <td>107.702</td>\n",
              "      <td>107.800</td>\n",
              "      <td>107.851</td>\n",
              "      <td>107.639</td>\n",
              "      <td>16913</td>\n",
              "    </tr>\n",
              "    <tr>\n",
              "      <th>2020-04-01 04:00:00</th>\n",
              "      <td>107.788</td>\n",
              "      <td>107.751</td>\n",
              "      <td>107.822</td>\n",
              "      <td>107.697</td>\n",
              "      <td>107.800</td>\n",
              "      <td>107.770</td>\n",
              "      <td>107.840</td>\n",
              "      <td>107.711</td>\n",
              "      <td>10195</td>\n",
              "    </tr>\n",
              "    <tr>\n",
              "      <th>2020-04-01 05:00:00</th>\n",
              "      <td>107.751</td>\n",
              "      <td>107.374</td>\n",
              "      <td>107.807</td>\n",
              "      <td>107.314</td>\n",
              "      <td>107.770</td>\n",
              "      <td>107.387</td>\n",
              "      <td>107.823</td>\n",
              "      <td>107.327</td>\n",
              "      <td>23543</td>\n",
              "    </tr>\n",
              "    <tr>\n",
              "      <th>2020-04-01 06:00:00</th>\n",
              "      <td>107.374</td>\n",
              "      <td>107.328</td>\n",
              "      <td>107.407</td>\n",
              "      <td>107.275</td>\n",
              "      <td>107.387</td>\n",
              "      <td>107.341</td>\n",
              "      <td>107.420</td>\n",
              "      <td>107.290</td>\n",
              "      <td>5877</td>\n",
              "    </tr>\n",
              "  </tbody>\n",
              "</table>\n",
              "</div>"
            ],
            "text/plain": [
              "                     bidopen  bidclose  bidhigh  ...  askhigh   asklow  tickqty\n",
              "date                                             ...                           \n",
              "2020-03-31 21:00:00  107.488   107.521  107.566  ...  107.632  107.551      210\n",
              "2020-03-31 22:00:00  107.521   107.756  107.756  ...  107.775  107.519    11472\n",
              "2020-03-31 23:00:00  107.756   107.502  107.756  ...  107.771  107.411    17229\n",
              "2020-04-01 00:00:00  107.502   107.485  107.579  ...  107.594  107.263    38494\n",
              "2020-04-01 01:00:00  107.485   107.705  107.728  ...  107.742  107.436    29869\n",
              "2020-04-01 02:00:00  107.705   107.688  107.933  ...  107.950  107.681    20419\n",
              "2020-04-01 03:00:00  107.688   107.788  107.836  ...  107.851  107.639    16913\n",
              "2020-04-01 04:00:00  107.788   107.751  107.822  ...  107.840  107.711    10195\n",
              "2020-04-01 05:00:00  107.751   107.374  107.807  ...  107.823  107.327    23543\n",
              "2020-04-01 06:00:00  107.374   107.328  107.407  ...  107.420  107.290     5877\n",
              "\n",
              "[10 rows x 9 columns]"
            ]
          },
          "metadata": {
            "tags": []
          },
          "execution_count": 5
        }
      ]
    },
    {
      "cell_type": "code",
      "metadata": {
        "id": "Ub1DRyRx6bZV",
        "colab_type": "code",
        "colab": {}
      },
      "source": [
        "data_201920 = api.get_candles('USD/JPY', period = 'H1', start = dt.datetime(2019, 3, 30), stop = dt.datetime(2020, 3, 30))\n",
        "data_201819 = api.get_candles('USD/JPY', period = 'H1', start = dt.datetime(2018, 3, 30), stop = dt.datetime(2019, 3, 30))\n",
        "data_201718 = api.get_candles('USD/JPY', period = 'H1', start = dt.datetime(2017, 3, 30), stop = dt.datetime(2018, 3, 30))\n",
        "data_201617 = api.get_candles('USD/JPY', period = 'H1', start = dt.datetime(2016, 3, 30), stop = dt.datetime(2017, 3, 30))\n",
        "data_201516 = api.get_candles('USD/JPY', period = 'H1', start = dt.datetime(2015, 3, 30), stop = dt.datetime(2016, 3, 30))\n",
        "data_201415 = api.get_candles('USD/JPY', period = 'H1', start = dt.datetime(2014, 3, 30), stop = dt.datetime(2015, 3, 30))\n",
        "data_201314 = api.get_candles('USD/JPY', period = 'H1', start = dt.datetime(2013, 3, 30), stop = dt.datetime(2014, 3, 30))\n",
        "data_201213 = api.get_candles('USD/JPY', period = 'H1', start = dt.datetime(2012, 3, 30), stop = dt.datetime(2013, 3, 30))\n",
        "data_201112 = api.get_candles('USD/JPY', period = 'H1', start = dt.datetime(2011, 3, 30), stop = dt.datetime(2012, 3, 30))\n",
        "data_201011 = api.get_candles('USD/JPY', period = 'H1', start = dt.datetime(2010, 3, 30), stop = dt.datetime(2011, 3, 30))"
      ],
      "execution_count": 0,
      "outputs": []
    },
    {
      "cell_type": "code",
      "metadata": {
        "id": "t1aPT1zw8roi",
        "colab_type": "code",
        "colab": {
          "base_uri": "https://localhost:8080/",
          "height": 437
        },
        "outputId": "4249810c-e69d-4021-e096-90ef23835ef7"
      },
      "source": [
        "data_201920"
      ],
      "execution_count": 9,
      "outputs": [
        {
          "output_type": "execute_result",
          "data": {
            "text/html": [
              "<div>\n",
              "<style scoped>\n",
              "    .dataframe tbody tr th:only-of-type {\n",
              "        vertical-align: middle;\n",
              "    }\n",
              "\n",
              "    .dataframe tbody tr th {\n",
              "        vertical-align: top;\n",
              "    }\n",
              "\n",
              "    .dataframe thead th {\n",
              "        text-align: right;\n",
              "    }\n",
              "</style>\n",
              "<table border=\"1\" class=\"dataframe\">\n",
              "  <thead>\n",
              "    <tr style=\"text-align: right;\">\n",
              "      <th></th>\n",
              "      <th>bidopen</th>\n",
              "      <th>bidclose</th>\n",
              "      <th>bidhigh</th>\n",
              "      <th>bidlow</th>\n",
              "      <th>askopen</th>\n",
              "      <th>askclose</th>\n",
              "      <th>askhigh</th>\n",
              "      <th>asklow</th>\n",
              "      <th>tickqty</th>\n",
              "    </tr>\n",
              "    <tr>\n",
              "      <th>date</th>\n",
              "      <th></th>\n",
              "      <th></th>\n",
              "      <th></th>\n",
              "      <th></th>\n",
              "      <th></th>\n",
              "      <th></th>\n",
              "      <th></th>\n",
              "      <th></th>\n",
              "      <th></th>\n",
              "    </tr>\n",
              "  </thead>\n",
              "  <tbody>\n",
              "    <tr>\n",
              "      <th>2019-03-31 18:00:00</th>\n",
              "      <td>110.847</td>\n",
              "      <td>110.954</td>\n",
              "      <td>110.993</td>\n",
              "      <td>110.923</td>\n",
              "      <td>110.886</td>\n",
              "      <td>110.993</td>\n",
              "      <td>110.998</td>\n",
              "      <td>110.970</td>\n",
              "      <td>193</td>\n",
              "    </tr>\n",
              "    <tr>\n",
              "      <th>2019-03-31 19:00:00</th>\n",
              "      <td>110.954</td>\n",
              "      <td>111.007</td>\n",
              "      <td>111.018</td>\n",
              "      <td>110.940</td>\n",
              "      <td>110.993</td>\n",
              "      <td>111.012</td>\n",
              "      <td>111.030</td>\n",
              "      <td>110.974</td>\n",
              "      <td>215</td>\n",
              "    </tr>\n",
              "    <tr>\n",
              "      <th>2019-03-31 20:00:00</th>\n",
              "      <td>111.007</td>\n",
              "      <td>111.013</td>\n",
              "      <td>111.091</td>\n",
              "      <td>110.987</td>\n",
              "      <td>111.012</td>\n",
              "      <td>111.074</td>\n",
              "      <td>111.107</td>\n",
              "      <td>111.012</td>\n",
              "      <td>321</td>\n",
              "    </tr>\n",
              "    <tr>\n",
              "      <th>2019-03-31 21:00:00</th>\n",
              "      <td>111.013</td>\n",
              "      <td>110.932</td>\n",
              "      <td>111.041</td>\n",
              "      <td>110.878</td>\n",
              "      <td>111.074</td>\n",
              "      <td>110.965</td>\n",
              "      <td>111.086</td>\n",
              "      <td>110.893</td>\n",
              "      <td>1320</td>\n",
              "    </tr>\n",
              "    <tr>\n",
              "      <th>2019-03-31 22:00:00</th>\n",
              "      <td>110.932</td>\n",
              "      <td>110.936</td>\n",
              "      <td>110.983</td>\n",
              "      <td>110.897</td>\n",
              "      <td>110.965</td>\n",
              "      <td>110.950</td>\n",
              "      <td>110.999</td>\n",
              "      <td>110.911</td>\n",
              "      <td>7250</td>\n",
              "    </tr>\n",
              "    <tr>\n",
              "      <th>...</th>\n",
              "      <td>...</td>\n",
              "      <td>...</td>\n",
              "      <td>...</td>\n",
              "      <td>...</td>\n",
              "      <td>...</td>\n",
              "      <td>...</td>\n",
              "      <td>...</td>\n",
              "      <td>...</td>\n",
              "      <td>...</td>\n",
              "    </tr>\n",
              "    <tr>\n",
              "      <th>2020-03-29 20:00:00</th>\n",
              "      <td>107.655</td>\n",
              "      <td>107.680</td>\n",
              "      <td>107.680</td>\n",
              "      <td>107.531</td>\n",
              "      <td>107.695</td>\n",
              "      <td>107.754</td>\n",
              "      <td>107.754</td>\n",
              "      <td>107.568</td>\n",
              "      <td>197</td>\n",
              "    </tr>\n",
              "    <tr>\n",
              "      <th>2020-03-29 21:00:00</th>\n",
              "      <td>107.680</td>\n",
              "      <td>107.717</td>\n",
              "      <td>107.814</td>\n",
              "      <td>107.609</td>\n",
              "      <td>107.754</td>\n",
              "      <td>107.795</td>\n",
              "      <td>107.876</td>\n",
              "      <td>107.651</td>\n",
              "      <td>704</td>\n",
              "    </tr>\n",
              "    <tr>\n",
              "      <th>2020-03-29 22:00:00</th>\n",
              "      <td>107.717</td>\n",
              "      <td>107.652</td>\n",
              "      <td>107.969</td>\n",
              "      <td>107.604</td>\n",
              "      <td>107.795</td>\n",
              "      <td>107.669</td>\n",
              "      <td>107.988</td>\n",
              "      <td>107.627</td>\n",
              "      <td>29215</td>\n",
              "    </tr>\n",
              "    <tr>\n",
              "      <th>2020-03-29 23:00:00</th>\n",
              "      <td>107.652</td>\n",
              "      <td>107.451</td>\n",
              "      <td>107.771</td>\n",
              "      <td>107.356</td>\n",
              "      <td>107.669</td>\n",
              "      <td>107.465</td>\n",
              "      <td>107.794</td>\n",
              "      <td>107.373</td>\n",
              "      <td>25791</td>\n",
              "    </tr>\n",
              "    <tr>\n",
              "      <th>2020-03-30 00:00:00</th>\n",
              "      <td>107.451</td>\n",
              "      <td>107.508</td>\n",
              "      <td>107.771</td>\n",
              "      <td>107.397</td>\n",
              "      <td>107.465</td>\n",
              "      <td>107.526</td>\n",
              "      <td>107.783</td>\n",
              "      <td>107.412</td>\n",
              "      <td>42863</td>\n",
              "    </tr>\n",
              "  </tbody>\n",
              "</table>\n",
              "<p>6300 rows × 9 columns</p>\n",
              "</div>"
            ],
            "text/plain": [
              "                     bidopen  bidclose  bidhigh  ...  askhigh   asklow  tickqty\n",
              "date                                             ...                           \n",
              "2019-03-31 18:00:00  110.847   110.954  110.993  ...  110.998  110.970      193\n",
              "2019-03-31 19:00:00  110.954   111.007  111.018  ...  111.030  110.974      215\n",
              "2019-03-31 20:00:00  111.007   111.013  111.091  ...  111.107  111.012      321\n",
              "2019-03-31 21:00:00  111.013   110.932  111.041  ...  111.086  110.893     1320\n",
              "2019-03-31 22:00:00  110.932   110.936  110.983  ...  110.999  110.911     7250\n",
              "...                      ...       ...      ...  ...      ...      ...      ...\n",
              "2020-03-29 20:00:00  107.655   107.680  107.680  ...  107.754  107.568      197\n",
              "2020-03-29 21:00:00  107.680   107.717  107.814  ...  107.876  107.651      704\n",
              "2020-03-29 22:00:00  107.717   107.652  107.969  ...  107.988  107.627    29215\n",
              "2020-03-29 23:00:00  107.652   107.451  107.771  ...  107.794  107.373    25791\n",
              "2020-03-30 00:00:00  107.451   107.508  107.771  ...  107.783  107.412    42863\n",
              "\n",
              "[6300 rows x 9 columns]"
            ]
          },
          "metadata": {
            "tags": []
          },
          "execution_count": 9
        }
      ]
    },
    {
      "cell_type": "code",
      "metadata": {
        "id": "6CvUndr_XIKZ",
        "colab_type": "code",
        "colab": {
          "base_uri": "https://localhost:8080/",
          "height": 293
        },
        "outputId": "5795be24-ebe5-4012-be95-428b4485843d"
      },
      "source": [
        "import matplotlib.pyplot as plt\n",
        "\n",
        "data_201819['askclose'].plot()"
      ],
      "execution_count": 12,
      "outputs": [
        {
          "output_type": "execute_result",
          "data": {
            "text/plain": [
              "<matplotlib.axes._subplots.AxesSubplot at 0x7f509f8ab978>"
            ]
          },
          "metadata": {
            "tags": []
          },
          "execution_count": 12
        },
        {
          "output_type": "display_data",
          "data": {
            "image/png": "[encoded data removed]",
            "text/plain": [
              "<Figure size 432x288 with 1 Axes>"
            ]
          },
          "metadata": {
            "tags": []
          }
        }
      ]
    }
  ]
}